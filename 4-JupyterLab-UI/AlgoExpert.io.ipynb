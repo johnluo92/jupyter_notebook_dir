{
 "cells": [
  {
   "cell_type": "markdown",
   "metadata": {},
   "source": [
    "### Mini Rewards\n",
    "https://www.algoexpert.io/questions/Min%20Rewards"
   ]
  },
  {
   "cell_type": "code",
   "execution_count": 133,
   "metadata": {},
   "outputs": [
    {
     "name": "stdout",
     "output_type": "stream",
     "text": [
      "[4, 3, 2, 1, 2, 3, 4, 5, 1]\n",
      "[1]\n",
      "[1, 2]\n",
      "[3, 2, 1, 2]\n",
      "[1, 2, 3, 4, 5, 4, 3, 2, 1, 2, 3, 4, 5, 1]\n",
      "[1, 2, 2, 1, 2]\n"
     ]
    }
   ],
   "source": [
    "def minRewards(case):\n",
    "    arr = case\n",
    "    length = len(arr)\n",
    "    test = True\n",
    "    if len(case) == 1:\n",
    "        return case\n",
    "    if arr[0] < arr[1]:\n",
    "        arr[0] = 1\n",
    "    if arr[-1] < arr[-2]:\n",
    "        arr[-1] = 1\n",
    "    while test:\n",
    "        test = False\n",
    "        prev = 0\n",
    "        for i in range(length-1): #traversing right\n",
    "            curr = arr[i]\n",
    "            nextRight = arr[i+1]\n",
    "            if curr>nextRight+1 and prev+1<curr:\n",
    "                arr[i]=curr-1\n",
    "                test = True\n",
    "            elif prev>curr>nextRight:\n",
    "                arr[i]=nextRight+1\n",
    "                test = True\n",
    "            prev = curr\n",
    "        prev = 0\n",
    "        for i in range(1,length):\n",
    "            curr = arr[-i]\n",
    "            nextLeft = arr[-i-1]\n",
    "            if curr>nextLeft+1:\n",
    "                arr[-i]=curr-1\n",
    "                test = True\n",
    "            elif prev>curr>nextLeft:\n",
    "                arr[i]=nextRight+1\n",
    "    return arr\n",
    "\n",
    "arr = [8, 4, 2, 1, 3, 6, 7, 9, 5]\n",
    "print(minRewards(arr)) # \n",
    "# print('\\n')\n",
    "\n",
    "arr = [1]\n",
    "print(minRewards(arr)) # \n",
    "# print('\\n')\n",
    "\n",
    "arr = [5, 10]\n",
    "print(minRewards(arr)) # \n",
    "# print('\\n')\n",
    "\n",
    "arr = [4, 2, 1, 3]\n",
    "print(minRewards(arr)) # \n",
    "# print('\\n')\n",
    "\n",
    "arr = [2, 20, 13, 12, 11, 8, 4, 3, 1, 5, 6, 7, 9, 0]\n",
    "print(minRewards(arr)) # \n",
    "# print('\\n')\n",
    "\n",
    "arr = [0, 4, 2, 1, 3]\n",
    "print(minRewards(arr)) # \n",
    "# print('\\n')"
   ]
  },
  {
   "cell_type": "code",
   "execution_count": 180,
   "metadata": {},
   "outputs": [
    {
     "name": "stdout",
     "output_type": "stream",
     "text": [
      "original: [8, 4, 2, 1, 3, 6, 7, 9, 5]\n",
      "result:   [4, 3, 2, 1, 2, 3, 4, 5, 1]\n",
      "\n",
      "\n",
      "original: [1]\n",
      "result:   [1]\n",
      "\n",
      "\n",
      "original: [5, 10]\n",
      "result:   [1, 2]\n",
      "\n",
      "\n",
      "original: [4, 2, 1, 3]\n",
      "result:   [3, 2, 1, 2]\n",
      "\n",
      "\n",
      "original: [2, 20, 13, 12, 11, 8, 4, 3, 1, 5, 6, 7, 9, 0]\n",
      "result:   [1, 8, 7, 6, 5, 4, 3, 2, 1, 2, 3, 4, 5, 1]\n",
      "\n",
      "\n",
      "original: [0, 4, 2, 1, 3]\n",
      "result:   [1, 3, 2, 1, 2]\n",
      "\n",
      "\n",
      "original: [10, 5]\n",
      "result:   [2, 1]\n",
      "\n",
      "\n"
     ]
    }
   ],
   "source": [
    "def minRewards(scores):\n",
    "    \n",
    "#     rewards = [1 for _ in scores]\n",
    "#     for i in range(1,len(rewards)):\n",
    "#         j = i - 1\n",
    "#         if scores[i] > scores[j]:\n",
    "#             rewards[i] = rewards[j]+1\n",
    "#         else:\n",
    "#             while j >= 0 and scores[j]>=scores[j+1]:\n",
    "#                 rewards[j] = max(rewards[j], rewards[j+1]+1)\n",
    "#                 j -= i\n",
    "#     print('rewards:  ', end='')\n",
    "#     return rewards\n",
    "#--------------------------------- Answer\n",
    "    rewards = [1 for _ in scores]\n",
    "    \n",
    "    for i in range(1, len(scores)):\n",
    "        if scores[i] > scores[i-1]:\n",
    "            rewards[i] = rewards[i-1]+1\n",
    "    for i in reversed(range(len(scores)-1)):\n",
    "        if scores[i]>scores[i+1]:\n",
    "            rewards[i] = max(rewards[i],rewards[i+1]+1)\n",
    "    \n",
    "    print('result:   ', end='')\n",
    "    return rewards\n",
    "#--------------------------------- Unit testing\n",
    "\n",
    "arr = [8, 4, 2, 1, 3, 6, 7, 9, 5] \n",
    "print('original:', arr)\n",
    "print(minRewards(arr)) # expected: [4, 3, 2, 1, 2, 3, 4, 5, 1]\n",
    "print('\\n')\n",
    "\n",
    "arr = [1]\n",
    "print('original:', arr)\n",
    "print(minRewards(arr)) # \n",
    "print('\\n')\n",
    "\n",
    "arr = [5, 10]\n",
    "print('original:', arr)\n",
    "print(minRewards(arr)) # \n",
    "print('\\n')\n",
    "\n",
    "arr = [4, 2, 1, 3]\n",
    "print('original:', arr)\n",
    "print(minRewards(arr)) # \n",
    "print('\\n')\n",
    "\n",
    "arr = [2, 20, 13, 12, 11, 8, 4, 3, 1, 5, 6, 7, 9, 0]\n",
    "print('original:', arr)\n",
    "print(minRewards(arr)) # \n",
    "print('\\n')\n",
    "\n",
    "arr = [0, 4, 2, 1, 3]\n",
    "print('original:', arr)\n",
    "print(minRewards(arr)) # \n",
    "print('\\n')\n",
    "\n",
    "arr = [10, 5]\n",
    "print('original:', arr)\n",
    "print(minRewards(arr)) # \n",
    "print('\\n')"
   ]
  },
  {
   "cell_type": "markdown",
   "metadata": {},
   "source": [
    "### Largest Range\n",
    "https://www.algoexpert.io/questions/Largest%20Range"
   ]
  },
  {
   "cell_type": "code",
   "execution_count": 181,
   "metadata": {},
   "outputs": [],
   "source": [
    "# def largestRange(array):\n",
    "#     hashtable = dict.fromkeys(array,False)\n",
    "#     length = len(array)\n",
    "#     if length == 1:\n",
    "#         return [array[0],array[0]]\n",
    "#     result = [float('+inf'), float('-inf')]\n",
    "#     for i in range(length):\n",
    "#         if all(hashtable.values()):\n",
    "#             return (result)\n",
    "#         hashtable[array[i]] = True\n",
    "#         cur = array[i]\n",
    "#         largest = result[1] - result[0]\n",
    "#         j = 1\n",
    "#         while True:\n",
    "#             test = array[i]-j\n",
    "#             if test in hashtable:\n",
    "#                 hashtable[test] = True\n",
    "#                 j += 1\n",
    "#             else:\n",
    "#                 beg = test+1\n",
    "#                 j = 1\n",
    "#                 break\n",
    "#         while True:\n",
    "#             test = array[i]+j\n",
    "#             if test in hashtable:\n",
    "#                 hashtable[test] = True\n",
    "#                 j += 1\n",
    "#             else:\n",
    "#                 end = test-1\n",
    "#                 print(result, beg,end)\n",
    "#                 if largest < end - beg:\n",
    "#                     result[0], result[1] = beg, end\n",
    "#                 break\n",
    "#     return result\n",
    "\n",
    "# arr = [1, 11, 3, 0, 15, 5, 2, 4, 10, 7, 12, 6]\n",
    "# print(largestRange(arr)) # expected: [0, 7]\n",
    "# print('\\n')\n",
    "\n",
    "# arr = [1,2,4,5,6]\n",
    "# print(largestRange(arr)) # expected: [4, 6]\n",
    "# print('\\n')\n",
    "\n",
    "# arr = [1]\n",
    "# print(largestRange(arr)) # expected: [1,1]\n",
    "# print('\\n')\n",
    "\n",
    "# arr = [19, -1, 18, 17, 2, 10, 3, 12, 5, 16, 4, 11, 8, 7, 6, 15, 12, 12, 2, 1, 6, 13, 14]\n",
    "# print(largestRange(arr)) # expected: [10, 19]\n",
    "# print('\\n')\n",
    "\n",
    "# arr = [4, 2, 1, 3, 6]\n",
    "# print(largestRange(arr)) # expected: [1, 4]\n",
    "# print('\\n')"
   ]
  },
  {
   "cell_type": "code",
   "execution_count": 188,
   "metadata": {},
   "outputs": [
    {
     "data": {
      "text/plain": [
       "3"
      ]
     },
     "execution_count": 188,
     "metadata": {},
     "output_type": "execute_result"
    }
   ],
   "source": [
    "def find_missing(full, partial):\n",
    "    missing = None\n",
    "    dic = dict.fromkeys(partial)\n",
    "    for i in full:\n",
    "        if i not in dic:\n",
    "            return i\n",
    "find_missing([1,2,3],[1,2])"
   ]
  },
  {
   "cell_type": "code",
   "execution_count": 264,
   "metadata": {},
   "outputs": [
    {
     "name": "stdout",
     "output_type": "stream",
     "text": [
      "(3, 2)\n",
      "\n"
     ]
    }
   ],
   "source": [
    "def find_pairs(a,target):\n",
    "    dic = {i: target-i for i in a if target-i>=0}\n",
    "    for i in dic.keys():\n",
    "        if dic[i] in dic:\n",
    "            return i,dic[i]\n",
    "    return 'no pairs'\n",
    "    \n",
    "a = [14,13,6,7,8,10,3,2]\n",
    "target = 5\n",
    "print(find_pairs(a,target))\n",
    "print()"
   ]
  },
  {
   "cell_type": "code",
   "execution_count": 353,
   "metadata": {},
   "outputs": [
    {
     "name": "stdout",
     "output_type": "stream",
     "text": [
      "found at index f\n"
     ]
    }
   ],
   "source": [
    "def find_c(arr, c):\n",
    "    arr.sort()\n",
    "    found = 'found'\n",
    "    half = len(arr)//2\n",
    "    if c == arr[half]:\n",
    "        return found,' at index ', arr[half]\n",
    "    if len(arr) == 1:\n",
    "        if c not in arr:\n",
    "            found = 'not found'\n",
    "            return found\n",
    "        else:\n",
    "            return found,' at index ', arr[half]\n",
    "        \n",
    "    if c > arr[half]:\n",
    "        return find_c(arr[half:],c)\n",
    "    else:\n",
    "        return find_c(arr[:half],c)\n",
    "\n",
    "\n",
    "a = ['a', 'b', 'c', 'd', 'e','f']\n",
    "print(''.join(find_c(a,'f')))"
   ]
  },
  {
   "cell_type": "code",
   "execution_count": 352,
   "metadata": {},
   "outputs": [
    {
     "name": "stdout",
     "output_type": "stream",
     "text": [
      "[(0, 'a'), (1, 'b'), (2, 'c'), (3, 'd'), (4, 'e'), (5, 'f')]\n",
      "index at 5 is the target: 'f'\n"
     ]
    }
   ],
   "source": [
    "def find_c(arr, c):\n",
    "    low = mid = 0\n",
    "    high = len(arr)-1\n",
    "    \n",
    "    while low <= high:\n",
    "        \n",
    "        mid = (high + low)//2\n",
    "        \n",
    "        if c > arr[mid]:\n",
    "            low = mid + 1\n",
    "            \n",
    "        elif c < arr[mid]:\n",
    "            high = mid - 1\n",
    "        \n",
    "        else:\n",
    "            s = ''.join(('index at ',str(mid),' is the target: \\'',arr[mid],'\\''))\n",
    "            return s\n",
    "        \n",
    "    return None\n",
    "    \n",
    "    \n",
    "a = ['a', 'b', 'c', 'd', 'e','f']\n",
    "thelist = list(enumerate(a))\n",
    "print(thelist)\n",
    "x = 'f'\n",
    "ans = find_c(a,x)\n",
    "print(ans)"
   ]
  },
  {
   "cell_type": "code",
   "execution_count": 361,
   "metadata": {},
   "outputs": [
    {
     "name": "stdout",
     "output_type": "stream",
     "text": [
      "25\n"
     ]
    }
   ],
   "source": [
    "def minRewards(scores):\n",
    "    rewards = [1]*len(scores)\n",
    "    for i in range(1, len(scores)):\n",
    "        j = i - 1\n",
    "        if scores[i]>scores[j]:\n",
    "            rewards[i] = rewards[j]+1\n",
    "    for i in reversed(range(len(scores)-1)):\n",
    "        if scores[i]>scores[i+1]:\n",
    "            rewards[i] = max(rewards[i],rewards[i+1]+1)\n",
    "    return sum(rewards)\n",
    "j = minRewards([8, 4, 2, 1, 3, 6, 7, 9, 5])\n",
    "print(j)"
   ]
  },
  {
   "cell_type": "code",
   "execution_count": 371,
   "metadata": {},
   "outputs": [
    {
     "name": "stdout",
     "output_type": "stream",
     "text": [
      "[0, 1, 1, 2, 3, 5, 8]\n"
     ]
    },
    {
     "data": {
      "text/plain": [
       "5"
      ]
     },
     "execution_count": 371,
     "metadata": {},
     "output_type": "execute_result"
    }
   ],
   "source": [
    "def getNthFib(n):\n",
    "    result = [None]*(n+1)\n",
    "    result[0] = 0\n",
    "    result[1] = 1\n",
    "    result[2] = 1\n",
    "    for i in range(3,n+1):\n",
    "        result[i] = result[i-1] + result[i-2]\n",
    "    print(result)\n",
    "    return result[n-1]\n",
    "\n",
    "getNthFib(6)"
   ]
  },
  {
   "cell_type": "code",
   "execution_count": 387,
   "metadata": {},
   "outputs": [
    {
     "name": "stdout",
     "output_type": "stream",
     "text": [
      "right\n"
     ]
    }
   ],
   "source": [
    "a = {'head':\tabs(2),\n",
    "     'left':\tabs(3),\n",
    "     'right': \tabs(1)}\n",
    "\n",
    "keylist = list(a.keys())\n",
    "vallist = list(a.values())\n",
    "index = vallist.index(min(vallist))\n",
    "\n",
    "close = keylist[index]\n",
    "print(close)"
   ]
  },
  {
   "cell_type": "code",
   "execution_count": 380,
   "metadata": {},
   "outputs": [
    {
     "name": "stdout",
     "output_type": "stream",
     "text": [
      "['java', 'python', 'c']\n",
      "[100, 112, 11]\n",
      "java\n",
      "python\n"
     ]
    }
   ],
   "source": [
    "# creating a new dictionary \n",
    "my_dict ={\"java\":100, \"python\":112, \"c\":11} \n",
    "\n",
    "# list out keys and values separately \n",
    "key_list = list(my_dict.keys()) \n",
    "print(key_list)\n",
    "val_list = list(my_dict.values()) \n",
    "print(val_list)\n",
    "\n",
    "print(key_list[0]) \n",
    "print(key_list[val_list.index(112)]) \n",
    "\n",
    "# one-liner \n",
    "# print(list(my_dict.keys())[list(my_dict.values()).index(112)]) \n"
   ]
  },
  {
   "cell_type": "code",
   "execution_count": 396,
   "metadata": {},
   "outputs": [
    {
     "name": "stdout",
     "output_type": "stream",
     "text": [
      "[2, 3, 5, 5, 6, 8, 9]\n"
     ]
    }
   ],
   "source": [
    "def selectionSort(array):\n",
    "    # Write your code here.\n",
    "    # input\t\t[8, 5, 2, 9, 5, 6, 3] len = 7\n",
    "    # expected\t[2, 3, 5, 5, 6, 8, 9]\n",
    "    length = len(array)\n",
    "    for i in range(length-1):\n",
    "        swapped = False\n",
    "        min = array[i]\n",
    "        for j in range(i+1,length):\n",
    "            if array[j] < min:\n",
    "                min = array[j]\n",
    "                swapped = True\n",
    "                swap = j\n",
    "        if swapped:\n",
    "            array[i], array[swap] = min, array[i]\n",
    "    return array\n",
    "\n",
    "        \n",
    "array = [8, 5, 2, 9, 5, 6, 3]\n",
    "s = selectionSort(array)\n",
    "print(s)"
   ]
  },
  {
   "cell_type": "code",
   "execution_count": 399,
   "metadata": {},
   "outputs": [
    {
     "name": "stdout",
     "output_type": "stream",
     "text": [
      "[2, 3, 5, 5, 6, 8, 9]\n"
     ]
    }
   ],
   "source": [
    "def insertionSort(array):\n",
    "    # Write your code here.\n",
    "    # input\t\t[8, 5, 2, 9, 5, 6, 3] len = 7\n",
    "    # expected\t[2, 3, 5, 5, 6, 8, 9]\n",
    "    length = len(array)\n",
    "    inserted = False\n",
    "    for i in range(1,length):\n",
    "        while i>0 and array[i]<array[i-1]:\n",
    "            array[i-1], array[i] = array[i], array[i-1]\n",
    "            i -= 1\n",
    "    return array\n",
    "    \n",
    "    \n",
    "array = [8, 5, 2, 9, 5, 6, 3]\n",
    "s = selectionSort(array)\n",
    "print(s)"
   ]
  },
  {
   "cell_type": "code",
   "execution_count": 502,
   "metadata": {},
   "outputs": [
    {
     "name": "stdout",
     "output_type": "stream",
     "text": [
      "[(0, 'z'), (1, 'z'), (2, 'z'), (3, 'z'), (4, 'z'), (5, 'z'), (6, 'z'), (7, '2'), (8, '3'), (9, '4'), (10, '5'), (11, 'a'), (12, 'b'), (13, 'b'), (14, 'b'), (15, 'b'), (16, 'a'), (17, '5'), (18, '4'), (19, '3'), (20, '2'), (21, 'z'), (22, 'z'), (23, 'b'), (24, 'b'), (25, 'a'), (26, 'b'), (27, 'a'), (28, 'b'), (29, 'a')]\n",
      "zz2345abbbba5432zz\n",
      "\n",
      "[(0, 'a'), (1, 'b'), (2, 'c'), (3, 'd'), (4, 'e'), (5, 'f'), (6, 'g'), (7, 'h'), (8, 'f'), (9, 'e'), (10, 'd'), (11, 'c'), (12, 'b'), (13, 'a'), (14, 'a')]\n",
      "aa\n",
      "\n",
      "xyzzyx\n",
      "aa\n",
      "zzzzzzzzzzzzzzzzzzzz\n"
     ]
    }
   ],
   "source": [
    "def longestPalindromicSubstring(string):\n",
    "    # Write your code here.\n",
    "    left = right = ''\n",
    "    leftbound = rightbound = 0\n",
    "    result = string[0]\n",
    "    length = len(string)\n",
    "    test = ''\n",
    "    for i in range(length):\n",
    "        expand = True\n",
    "        leftbound = i-1\n",
    "        rightbound = i+1\n",
    "#         print(string[i],i,rightbound)\n",
    "        while leftbound >= 0 and rightbound < len(string):\n",
    "#             print('test1',test, leftbound, rightbound, len(test), len(result),string[i])\n",
    "            while rightbound <= len(string) and string[i] == string[rightbound] and expand:\n",
    "                test = string[i:rightbound+1]\n",
    "                if rightbound == length-1:\n",
    "                    break\n",
    "                rightbound += 1\n",
    "#                 print(rightbound)\n",
    "#             print(test,string[leftbound],string[rightbound])\n",
    "            if string[leftbound] == string[rightbound]:\n",
    "                test = string[leftbound:rightbound+1]\n",
    "#                 print('test3',test, leftbound, rightbound, len(test), len(result))\n",
    "                leftbound -= 1\n",
    "                rightbound += 1\n",
    "                expand = False\n",
    "            else:\n",
    "                break\n",
    "                \n",
    "        if len(test) > len(result):\n",
    "            result = test\n",
    "                \n",
    "    return result\n",
    "            \n",
    "    \n",
    "string = 'zzzzzzz2345abbbba5432zzbbababa' # zz2345abbbba5432zz\n",
    "print(list(enumerate(string)))\n",
    "s = longestPalindromicSubstring(string)\n",
    "print(s)\n",
    "print()\n",
    "\n",
    "string = 'abcdefghfedcbaa' # aa\n",
    "print(list(enumerate(string)))\n",
    "s = longestPalindromicSubstring(string)\n",
    "print(s)\n",
    "print()\n",
    "\n",
    "string = 'abaxyzzyxf'\n",
    "s = longestPalindromicSubstring(string)\n",
    "print(s)\n",
    "\n",
    "string = 'abcdefghfedcbaa' # aa\n",
    "s = longestPalindromicSubstring(string)\n",
    "print(s)\n",
    "\n",
    "string = 'abcdefgfedcbazzzzzzzzzzzzzzzzzzzz'\n",
    "s = longestPalindromicSubstring(string)\n",
    "print(s)"
   ]
  },
  {
   "cell_type": "code",
   "execution_count": 1,
   "metadata": {},
   "outputs": [
    {
     "data": {
      "text/plain": [
       "[5, 12]"
      ]
     },
     "execution_count": 1,
     "metadata": {},
     "output_type": "execute_result"
    }
   ],
   "source": [
    "a = [5,12]\n",
    "b = [3,6]\n",
    "long = max(a, b, key = lambda x: x[1]-x[0])\n",
    "long"
   ]
  },
  {
   "cell_type": "code",
   "execution_count": 17,
   "metadata": {},
   "outputs": [
    {
     "data": {
      "text/plain": [
       "['yo', 'oy', 'act', 'tac', 'foo', 'cat', 'flop', 'olfp']"
      ]
     },
     "execution_count": 17,
     "metadata": {},
     "output_type": "execute_result"
    }
   ],
   "source": [
    "words = [\"yo\", \"act\", \"flop\", \"tac\", \"foo\", \"cat\", \"oy\", \"olfp\"]\n",
    "words.sort(key=len)\n",
    "words"
   ]
  },
  {
   "cell_type": "code",
   "execution_count": 108,
   "metadata": {},
   "outputs": [
    {
     "name": "stdout",
     "output_type": "stream",
     "text": [
      "['a', 'cinema', 'flop', 'iceman', 'lofp', 'meacyne', 'olfp']\n",
      "{'a': True, 'flop': True, 'lofp': True, 'olfp': True, 'cinema': True, 'iceman': True, 'meacyne': True}\n",
      "{'a': True, 'flop': True, 'lofp': True, 'olfp': True, 'cinema': True, 'iceman': True, 'meacyne': True}\n",
      "{'a': True, 'flop': True, 'lofp': False, 'olfp': False, 'cinema': True, 'iceman': True, 'meacyne': True}\n",
      "{'a': True, 'flop': True, 'lofp': False, 'olfp': False, 'cinema': True, 'iceman': True, 'meacyne': True}\n",
      "{'a': True, 'flop': True, 'lofp': False, 'olfp': False, 'cinema': True, 'iceman': True, 'meacyne': True}\n",
      "{'a': True, 'flop': True, 'lofp': False, 'olfp': False, 'cinema': True, 'iceman': False, 'meacyne': True}\n",
      "{'a': True, 'flop': True, 'lofp': False, 'olfp': False, 'cinema': True, 'iceman': False, 'meacyne': True}\n",
      "result [['a'], ['flop', 'lofp', 'olfp'], ['cinema', 'iceman'], ['meacyne']]\n"
     ]
    }
   ],
   "source": [
    "def groupAnagrams(words):\n",
    "    # Write your code here.\n",
    "    words.sort(key=len)\n",
    "    length = len(words)\n",
    "    result = []\n",
    "    arr = 0\n",
    "    \n",
    "    '''\n",
    "    output dictates we have unique arrays of anagrams, so\n",
    "    a dictionary is created to make sure a word that's an\n",
    "    anagram of another word is not added/looked at twice \n",
    "    since we already know it's an anagram of something.\n",
    "    The code deals with adding a word in an new array to the\n",
    "    result array, and adding its anagram to its appropriate\n",
    "    array within the result array.\n",
    "    '''\n",
    "    dic = dict.fromkeys(words,True)\n",
    "    \n",
    "    for word in range(length):\n",
    "        print(dic)\n",
    "        if dic[words[word]]:\n",
    "            result.append([words[word]])\n",
    "        else:\n",
    "            continue\n",
    "        test_len = len(words[word])\n",
    "        if word+1 < length:\n",
    "            for test in range(word+1, length):\n",
    "                test_len2 = len(words[test])\n",
    "                if test_len == test_len2 and sorted(words[word]) == sorted(words[test]):\n",
    "                    dic[words[test]] = False\n",
    "                    result[arr].append(words[test])\n",
    "                else:\n",
    "                    break\n",
    "            arr += 1\n",
    "    return result\n",
    "\n",
    "words = [\"yo\", \"act\", \"flop\", \"tac\", \"foo\", \"cat\", \"oy\", \"olfp\"]\n",
    "# ans = groupAnagrams(words)\n",
    "# print('result',ans)\n",
    "\n",
    "words = [\"cinema\", \"a\", \"flop\", \"iceman\", \"meacyne\", \"lofp\", \"olfp\"]\n",
    "words.sort()\n",
    "print(words)\n",
    "#expected [[\"a\"], [\"meacyne\"], [\"cinema\", \"iceman\"], [\"flop\", \"lofp\", \"olfp\"]]\n",
    "ans = groupAnagrams(words)\n",
    "print('result',ans)"
   ]
  },
  {
   "cell_type": "code",
   "execution_count": 9,
   "metadata": {},
   "outputs": [
    {
     "name": "stdout",
     "output_type": "stream",
     "text": [
      "{'some': True}\n",
      "{'some': False}\n"
     ]
    }
   ],
   "source": [
    "disc = {'some':True}\n",
    "print(disc)\n",
    "disc['some'] = False\n",
    "print(disc)"
   ]
  },
  {
   "cell_type": "code",
   "execution_count": 19,
   "metadata": {},
   "outputs": [
    {
     "name": "stdout",
     "output_type": "stream",
     "text": [
      "[[1, 2]]\n",
      "[[1, 2], [2, 3]]\n"
     ]
    }
   ],
   "source": [
    "lis = []\n",
    "lis.append([1])\n",
    "lis[0].append(2)\n",
    "print(lis)\n",
    "\n",
    "lis.append([2])\n",
    "lis[1].append(3)\n",
    "print(lis)"
   ]
  },
  {
   "cell_type": "code",
   "execution_count": 38,
   "metadata": {},
   "outputs": [
    {
     "data": {
      "text/plain": [
       "{'i': None, 'c': None, 'e': None, 'm': None, 'a': None, 'n': None}"
      ]
     },
     "execution_count": 38,
     "metadata": {},
     "output_type": "execute_result"
    }
   ],
   "source": [
    "a = 'iceman'\n",
    "dic = dict.fromkeys(a)\n",
    "dic"
   ]
  },
  {
   "cell_type": "code",
   "execution_count": 75,
   "metadata": {},
   "outputs": [
    {
     "name": "stdout",
     "output_type": "stream",
     "text": [
      "{'yo': 'oy', 'act': 'act', 'flop': 'flop', 'tac': 'act', 'foo': 'foo', 'cat': 'act', 'oy': 'oy', 'olfp': 'flop'}\n"
     ]
    }
   ],
   "source": [
    "words = [\"yo\", \"act\", \"flop\", \"tac\", \"foo\", \"cat\", \"oy\", \"olfp\"]\n",
    "ans = {i:''.join(sorted(i)) for i in words}\n",
    "print(ans)"
   ]
  },
  {
   "cell_type": "code",
   "execution_count": 70,
   "metadata": {},
   "outputs": [
    {
     "name": "stdout",
     "output_type": "stream",
     "text": [
      "Task 1:-\n",
      "\n",
      "Keys are\n",
      "1 2 3 4 5 6 "
     ]
    }
   ],
   "source": [
    "# Function calling \n",
    "def dictionairy(): \n",
    "    # Declare hash function\t \n",
    "    key_value = {}\n",
    "\n",
    "    # Initializing value \n",
    "    key_value[2] = 56\n",
    "    key_value[1] = 2\n",
    "    key_value[5] = 12\n",
    "    key_value[4] = 24\n",
    "    key_value[6] = 18\n",
    "    key_value[3] = 323\n",
    "\n",
    "    print (\"Task 1:-\\n\") \n",
    "    print (\"Keys are\") \n",
    "\n",
    "    # iterkeys() returns an iterator over the \n",
    "    # dictionary’s keys. \n",
    "    for i in sorted (key_value.keys()) : \n",
    "        print(i, end = \" \") \n",
    "\n",
    "def main(): \n",
    "    # function calling \n",
    "    dictionairy()\t\t\t \n",
    "\n",
    "# Main function calling \n",
    "if __name__==\"__main__\":\t \n",
    "    main() \n"
   ]
  },
  {
   "cell_type": "code",
   "execution_count": 78,
   "metadata": {},
   "outputs": [
    {
     "name": "stdout",
     "output_type": "stream",
     "text": [
      "[('act', 'act'), ('cat', 'act'), ('flop', 'flop'), ('foo', 'foo'), ('olfp', 'flop'), ('oy', 'oy'), ('tac', 'act'), ('yo', 'oy')]\n"
     ]
    }
   ],
   "source": [
    "# Declare hash function\t \n",
    "key_value = {}\n",
    "\n",
    "# Initializing value \n",
    "key_value[2] = 56\n",
    "key_value[1] = 2\n",
    "key_value[5] = 12\n",
    "key_value[4] = 24\n",
    "key_value[6] = 18\n",
    "key_value[3] = 323\n",
    "\n",
    "print(sorted(ans.items(), key=lambda item: item[0]))"
   ]
  },
  {
   "cell_type": "code",
   "execution_count": 87,
   "metadata": {},
   "outputs": [
    {
     "name": "stdout",
     "output_type": "stream",
     "text": [
      "['yo', 'oy', 'act', 'tac', 'foo', 'cat', 'flop', 'olfp']\n",
      "{'yo': 'oy', 'oy': 'oy', 'act': 'act', 'tac': 'act', 'foo': 'foo', 'cat': 'act', 'flop': 'flop', 'olfp': 'flop'}\n",
      "8\n"
     ]
    },
    {
     "data": {
      "text/plain": [
       "{'act': 'act',\n",
       " 'cat': 'act',\n",
       " 'flop': 'flop',\n",
       " 'foo': 'foo',\n",
       " 'olfp': 'flop',\n",
       " 'oy': 'oy',\n",
       " 'tac': 'act',\n",
       " 'yo': 'oy'}"
      ]
     },
     "execution_count": 87,
     "metadata": {},
     "output_type": "execute_result"
    }
   ],
   "source": [
    "words = [\"yo\", \"act\", \"flop\", \"tac\", \"foo\", \"cat\", \"oy\", \"olfp\"]\n",
    "words.sort(key=len)\n",
    "print(words)\n",
    "ans = {i:''.join(sorted(i)) for i in words}\n",
    "print(ans)\n",
    "print(len(ans))\n",
    "{k: v for k, v in sorted(ans.items(), key=lambda item: item[0])}"
   ]
  },
  {
   "cell_type": "code",
   "execution_count": 104,
   "metadata": {},
   "outputs": [
    {
     "ename": "SyntaxError",
     "evalue": "invalid syntax (<ipython-input-104-db61b53a4ca2>, line 11)",
     "output_type": "error",
     "traceback": [
      "\u001b[0;36m  File \u001b[0;32m\"<ipython-input-104-db61b53a4ca2>\"\u001b[0;36m, line \u001b[0;32m11\u001b[0m\n\u001b[0;31m    if mylis\u001b[0m\n\u001b[0m            ^\u001b[0m\n\u001b[0;31mSyntaxError\u001b[0m\u001b[0;31m:\u001b[0m invalid syntax\n"
     ]
    }
   ],
   "source": [
    "def groupAnagrams(words):\n",
    "    words.sort(key=len)\n",
    "    mydic = {i:''.join(sorted(i)) for i in words}\n",
    "    mylis = list(mydic)\n",
    "    result = []\n",
    "    length = len(mylist)\n",
    "    arr = 0\n",
    "    for i in range(length):\n",
    "        word = mylis[i]\n",
    "        result.append([word])\n",
    "        if i+1<length:\n",
    "            for j in range(i+1,length):\n",
    "                if len(word) == len(mylis[j]) and word == mydic[j]:\n",
    "                    result[arr].append()\n",
    "    \n",
    "\n",
    "words = [\"yo\", \"act\", \"flop\", \"tac\", \"foo\", \"cat\", \"oy\", \"olfp\"]\n",
    "# ans = groupAnagrams(words)\n",
    "# print('result',ans)\n",
    "\n",
    "words = [\"cinema\", \"a\", \"flop\", \"iceman\", \"meacyne\", \"lofp\", \"olfp\"]\n",
    "words.sort()\n",
    "print(words)\n",
    "#expected [[\"a\"], [\"meacyne\"], [\"cinema\", \"iceman\"], [\"flop\", \"lofp\", \"olfp\"]]\n",
    "ans = groupAnagrams(words)\n",
    "print('result',ans)"
   ]
  },
  {
   "cell_type": "code",
   "execution_count": 107,
   "metadata": {},
   "outputs": [
    {
     "name": "stdout",
     "output_type": "stream",
     "text": [
      "8\n",
      "{'yo': 'oy', 'oy': 'oy', 'act': 'act', 'tac': 'act', 'foo': 'foo', 'cat': 'act', 'flop': 'flop', 'olfp': 'flop'}\n",
      "oy\n",
      "tac\n"
     ]
    }
   ],
   "source": [
    "words = [\"yo\", \"act\", \"flop\", \"tac\", \"foo\", \"cat\", \"oy\", \"olfp\"]\n",
    "words.sort(key=len)\n",
    "mylist = {i:''.join(sorted(i)) for i in words}\n",
    "result = []\n",
    "length = len(mylist)\n",
    "thelist = list(mylist)\n",
    "print(length)\n",
    "print(mylist)\n",
    "print(thelist[1])\n",
    "print(thelist[3])"
   ]
  },
  {
   "cell_type": "code",
   "execution_count": 115,
   "metadata": {},
   "outputs": [
    {
     "name": "stdout",
     "output_type": "stream",
     "text": [
      "{'yo': 'oy', 'oy': 'oy', 'act': 'act', 'tac': 'act', 'foo': 'foo', 'cat': 'act', 'flop': 'flop', 'olfp': 'flop'}\n"
     ]
    },
    {
     "ename": "AttributeError",
     "evalue": "'str' object has no attribute 'append'",
     "output_type": "error",
     "traceback": [
      "\u001b[0;31m---------------------------------------------------------------------------\u001b[0m",
      "\u001b[0;31mAttributeError\u001b[0m                            Traceback (most recent call last)",
      "\u001b[0;32m<ipython-input-115-28dbcc42350f>\u001b[0m in \u001b[0;36m<module>\u001b[0;34m\u001b[0m\n\u001b[1;32m      3\u001b[0m \u001b[0mmylist\u001b[0m \u001b[0;34m=\u001b[0m \u001b[0;34m{\u001b[0m\u001b[0mi\u001b[0m\u001b[0;34m:\u001b[0m\u001b[0;34m''\u001b[0m\u001b[0;34m.\u001b[0m\u001b[0mjoin\u001b[0m\u001b[0;34m(\u001b[0m\u001b[0msorted\u001b[0m\u001b[0;34m(\u001b[0m\u001b[0mi\u001b[0m\u001b[0;34m)\u001b[0m\u001b[0;34m)\u001b[0m \u001b[0;32mfor\u001b[0m \u001b[0mi\u001b[0m \u001b[0;32min\u001b[0m \u001b[0mwords\u001b[0m\u001b[0;34m}\u001b[0m\u001b[0;34m\u001b[0m\u001b[0;34m\u001b[0m\u001b[0m\n\u001b[1;32m      4\u001b[0m \u001b[0mprint\u001b[0m\u001b[0;34m(\u001b[0m\u001b[0mmylist\u001b[0m\u001b[0;34m)\u001b[0m\u001b[0;34m\u001b[0m\u001b[0;34m\u001b[0m\u001b[0m\n\u001b[0;32m----> 5\u001b[0;31m \u001b[0mmylist\u001b[0m\u001b[0;34m[\u001b[0m\u001b[0;34m'yo'\u001b[0m\u001b[0;34m]\u001b[0m\u001b[0;34m.\u001b[0m\u001b[0mappend\u001b[0m\u001b[0;34m(\u001b[0m\u001b[0;34m'yo'\u001b[0m\u001b[0;34m)\u001b[0m\u001b[0;34m\u001b[0m\u001b[0;34m\u001b[0m\u001b[0m\n\u001b[0m",
      "\u001b[0;31mAttributeError\u001b[0m: 'str' object has no attribute 'append'"
     ]
    }
   ],
   "source": [
    "words = [\"yo\", \"act\", \"flop\", \"tac\", \"foo\", \"cat\", \"oy\", \"olfp\"]\n",
    "words.sort(key=len)\n",
    "mylist = {i:''.join(sorted(i)) for i in words}\n",
    "print(mylist)\n",
    "mylist['yo']"
   ]
  },
  {
   "cell_type": "code",
   "execution_count": 132,
   "metadata": {},
   "outputs": [
    {
     "name": "stdout",
     "output_type": "stream",
     "text": [
      "{'a': ['b', 'c']}\n"
     ]
    }
   ],
   "source": [
    "words = {}\n",
    "a,b,c = 'a', 'b', 'c'\n",
    "words[a] = [b]\n",
    "words[a].append(c)\n",
    "print(words)"
   ]
  },
  {
   "cell_type": "code",
   "execution_count": 128,
   "metadata": {},
   "outputs": [
    {
     "name": "stdout",
     "output_type": "stream",
     "text": [
      "{'a': ['hello']}\n",
      "{'a': ['hello', 'kite']}\n"
     ]
    }
   ],
   "source": [
    "a_dict = {}\n",
    "if \"a\" in a_dict:\n",
    "    a_dict[\"a\"].append(\"hello\")\n",
    "else:\n",
    "    a_dict[\"a\"] = [\"hello\"]\n",
    "print(a_dict)\n",
    "\n",
    "\n",
    "if \"a\" in a_dict:\n",
    "    a_dict[\"a\"].append(\"kite\")\n",
    "print(a_dict)"
   ]
  },
  {
   "cell_type": "code",
   "execution_count": 131,
   "metadata": {},
   "outputs": [
    {
     "name": "stdout",
     "output_type": "stream",
     "text": [
      "{'a': ['hello', 'kite']}\n"
     ]
    }
   ],
   "source": [
    "a_dict = {}\n",
    "a_dict[\"a\"] = [\"hello\"]\n",
    "a_dict[\"a\"].append(\"kite\")\n",
    "print(a_dict)"
   ]
  },
  {
   "cell_type": "code",
   "execution_count": 133,
   "metadata": {},
   "outputs": [
    {
     "name": "stdout",
     "output_type": "stream",
     "text": [
      "result [['yo', 'oy'], ['act', 'tac', 'cat'], ['flop', 'olfp'], ['foo']]\n"
     ]
    }
   ],
   "source": [
    "def groupAnagrams(words):\n",
    "    # Write your code here.\n",
    "    anagrams = {}\n",
    "    for word in words:\n",
    "        sortedWord = ''.join(sorted(word))\n",
    "        if sortedWord in anagrams:\n",
    "            anagrams[sortedWord].append(word)\n",
    "        else:\n",
    "            anagrams[sortedWord] = [word]\n",
    "    return list(anagrams.values())\n",
    "    \n",
    "words = [\"yo\", \"act\", \"flop\", \"tac\", \"foo\", \"cat\", \"oy\", \"olfp\"]\n",
    "ans = groupAnagrams(words)\n",
    "print('result',ans)"
   ]
  },
  {
   "cell_type": "code",
   "execution_count": null,
   "metadata": {},
   "outputs": [],
   "source": []
  }
 ],
 "metadata": {
  "kernelspec": {
   "display_name": "Python 3",
   "language": "python",
   "name": "python3"
  },
  "language_info": {
   "codemirror_mode": {
    "name": "ipython",
    "version": 3
   },
   "file_extension": ".py",
   "mimetype": "text/x-python",
   "name": "python",
   "nbconvert_exporter": "python",
   "pygments_lexer": "ipython3",
   "version": "3.8.5"
  }
 },
 "nbformat": 4,
 "nbformat_minor": 4
}
