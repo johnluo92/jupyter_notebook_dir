{
 "cells": [
  {
   "cell_type": "markdown",
   "metadata": {},
   "source": [
    "DFS\n",
    "BFS\n",
    "Matching Parenthesis problem\n",
    "Using Hash Tables\n",
    "Variables/Pointers manipulation\n",
    "reverse linked list (duplicates , removing duplicates)\n",
    "sorting fundamentals (quicksort, mergesort,bubblesort techniques , runtime of a sort,time space complexity)\n",
    "Recursion\n",
    "custom data structures (object oriented programming) 10.Binary search ** thank me later**\n",
    "\n",
    "\n",
    "I am seeking for new opportunities because in my previous role, covid related issues arose around march and caused my contract with Vanguard to be cut short and as a result the consulting firm did not have any new roles set up for me."
   ]
  },
  {
   "cell_type": "markdown",
   "metadata": {},
   "source": [
    "dianne\n",
    "\n",
    "oakridge\n",
    "\n",
    "app sec, support\n",
    "backend\n",
    "many offices\n",
    "\n",
    "lvl2 lv3\n",
    "\n",
    "jira\n",
    "\n",
    "automate\n",
    "scripting\n",
    "powershell\n",
    "window\n",
    "\n",
    "scheduling software\n",
    "\n",
    "application support/archtect\n",
    "\n",
    "52d61ceb5164e936959181b19acf2f87505c9150"
   ]
  },
  {
   "cell_type": "code",
   "execution_count": 3,
   "metadata": {},
   "outputs": [
    {
     "name": "stdout",
     "output_type": "stream",
     "text": [
      "Iteration: 0 sorted\n",
      "Iteration: 1 sorted\n",
      "Iteration: 2Nothing sorted\n"
     ]
    },
    {
     "data": {
      "text/plain": [
       "[1, 2, 3, 4, 5]"
      ]
     },
     "execution_count": 3,
     "metadata": {},
     "output_type": "execute_result"
    }
   ],
   "source": [
    "#bubble sort\n",
    "\n",
    "import array as arr\n",
    "\n",
    "def bubbleSort(a):\n",
    "    temp = 0\n",
    "    flag = False\n",
    "\n",
    "    for i in range(len(a)):\n",
    "        print('Iteration:',i, end='')\n",
    "        flag = False\n",
    "        for j in range(len(a)-1-i):\n",
    "            if a[j] > a[j+1]:\n",
    "                temp = a[j]\n",
    "                a[j] = a[j+1]\n",
    "                a[j+1] = temp\n",
    "                flag = True\n",
    "                print(' sorted')\n",
    "        if flag == False:\n",
    "            print('Nothing sorted')\n",
    "            return a\n",
    "    \n",
    "    print(a)\n",
    "\n",
    "a = [1, 2, 4, 5, 3]\n",
    "bubbleSort(a)"
   ]
  },
  {
   "cell_type": "code",
   "execution_count": 4,
   "metadata": {},
   "outputs": [
    {
     "name": "stdout",
     "output_type": "stream",
     "text": [
      "[1, 2, 3, 4, 5]\n"
     ]
    }
   ],
   "source": [
    "#insertion sort\n",
    "\n",
    "def insertionSort(a):\n",
    "    \n",
    "    for i in range(1, len(a)):\n",
    "        while i > 0 and a[i] < a[i-1]:\n",
    "            key = a[i]\n",
    "            a[i] = a[i-1]\n",
    "            a[i-1] = key\n",
    "            i-=1\n",
    "    print(a)\n",
    "\n",
    "a = [5, 4, 3, 2, 1]\n",
    "insertionSort(a)"
   ]
  },
  {
   "cell_type": "code",
   "execution_count": 5,
   "metadata": {},
   "outputs": [
    {
     "name": "stdout",
     "output_type": "stream",
     "text": [
      "[3, 6, 1, 8, 4, 5, 4]\n",
      "swapped 1 and 3 result: [1, 6, 3, 8, 4, 5, 4]\n",
      "[1, 6, 3, 8, 4, 5, 4]\n",
      "swapped 3 and 6 result: [1, 3, 6, 8, 4, 5, 4]\n",
      "[1, 3, 6, 8, 4, 5, 4]\n",
      "swapped 4 and 6 result: [1, 3, 4, 8, 6, 5, 4]\n",
      "[1, 3, 4, 8, 6, 5, 4]\n",
      "swapped 6 and 8 result: [1, 3, 4, 6, 8, 5, 4]\n",
      "swapped 5 and 6 result: [1, 3, 4, 5, 8, 6, 4]\n",
      "swapped 4 and 5 result: [1, 3, 4, 4, 8, 6, 5]\n",
      "[1, 3, 4, 4, 8, 6, 5]\n",
      "swapped 6 and 8 result: [1, 3, 4, 4, 6, 8, 5]\n",
      "swapped 5 and 6 result: [1, 3, 4, 4, 5, 8, 6]\n",
      "[1, 3, 4, 4, 5, 8, 6]\n",
      "swapped 6 and 8 result: [1, 3, 4, 4, 5, 6, 8]\n",
      "[1, 3, 4, 4, 5, 6, 8]\n"
     ]
    }
   ],
   "source": [
    "#selection sort\n",
    "\n",
    "def selectionSort(a):\n",
    "    \n",
    "    for i in range(len(a)):\n",
    "        j = i\n",
    "        print(a)\n",
    "        while j < len(a)-1:\n",
    "            low = a[i]\n",
    "            if a[j+1] < a[i]:\n",
    "                low = a[j+1]\n",
    "                a[j+1] = a[i]\n",
    "                a[i] = low\n",
    "                print('swapped', low, 'and', a[j+1], 'result:', a)\n",
    "                j+=1\n",
    "            else:\n",
    "                j+=1\n",
    "\n",
    "    \n",
    "#a = [5, 4, 3, 2, 1] \n",
    "s = [3, 6, 1, 8, 4, 5, 4]\n",
    "selectionSort(s)"
   ]
  },
  {
   "cell_type": "code",
   "execution_count": 6,
   "metadata": {},
   "outputs": [
    {
     "data": {
      "text/plain": [
       "8"
      ]
     },
     "execution_count": 6,
     "metadata": {},
     "output_type": "execute_result"
    }
   ],
   "source": [
    "# def solution(number):\n",
    "#     sum = 0\n",
    "#     for i in range(number):\n",
    "#         #print(i)\n",
    "#         if i%3==0 and i%5==0:\n",
    "#             sum += i\n",
    "#         elif i%3==0:\n",
    "#             sum += i\n",
    "#         elif i%5==0:\n",
    "#             sum += i\n",
    "            \n",
    "#     print(sum)\n",
    "\n",
    "def solution(number):\n",
    "    return sum(x for x in range(number) if x % 3 == 0 or x % 5 == 0)\n",
    "    \n",
    "solution(6)"
   ]
  },
  {
   "cell_type": "code",
   "execution_count": 5,
   "metadata": {},
   "outputs": [
    {
     "ename": "ModuleNotFoundError",
     "evalue": "No module named 'mem_profile'",
     "output_type": "error",
     "traceback": [
      "\u001b[0;31m---------------------------------------------------------------------------\u001b[0m",
      "\u001b[0;31mModuleNotFoundError\u001b[0m                       Traceback (most recent call last)",
      "\u001b[0;32m<ipython-input-5-d90e076c7884>\u001b[0m in \u001b[0;36m<module>\u001b[0;34m\u001b[0m\n\u001b[0;32m----> 1\u001b[0;31m \u001b[0;32mimport\u001b[0m \u001b[0mmem_profile\u001b[0m \u001b[0;32mas\u001b[0m \u001b[0mmp\u001b[0m\u001b[0;34m\u001b[0m\u001b[0;34m\u001b[0m\u001b[0m\n\u001b[0m\u001b[1;32m      2\u001b[0m \u001b[0;32mimport\u001b[0m \u001b[0mrandom\u001b[0m\u001b[0;34m\u001b[0m\u001b[0;34m\u001b[0m\u001b[0m\n\u001b[1;32m      3\u001b[0m \u001b[0;32mimport\u001b[0m \u001b[0mtime\u001b[0m\u001b[0;34m\u001b[0m\u001b[0;34m\u001b[0m\u001b[0m\n\u001b[1;32m      4\u001b[0m \u001b[0;34m\u001b[0m\u001b[0m\n\u001b[1;32m      5\u001b[0m \u001b[0mnames\u001b[0m \u001b[0;34m=\u001b[0m \u001b[0;34m[\u001b[0m\u001b[0;34m'John'\u001b[0m\u001b[0;34m,\u001b[0m \u001b[0;34m'James'\u001b[0m\u001b[0;34m,\u001b[0m \u001b[0;34m'Katy'\u001b[0m\u001b[0;34m,\u001b[0m \u001b[0;34m'Larry'\u001b[0m\u001b[0;34m,\u001b[0m \u001b[0;34m'Patrick'\u001b[0m\u001b[0;34m,\u001b[0m \u001b[0;34m'Susan'\u001b[0m\u001b[0;34m,\u001b[0m \u001b[0;34m'Mary'\u001b[0m\u001b[0;34m]\u001b[0m\u001b[0;34m\u001b[0m\u001b[0;34m\u001b[0m\u001b[0m\n",
      "\u001b[0;31mModuleNotFoundError\u001b[0m: No module named 'mem_profile'"
     ]
    }
   ],
   "source": [
    "import mem_profile as mp\n",
    "import random\n",
    "import time\n",
    "\n",
    "names = ['John', 'James', 'Katy', 'Larry', 'Patrick', 'Susan', 'Mary']\n",
    "majors = ['arts', 'photography', 'sculpting', 'writing', 'physics', 'math']\n",
    "\n",
    "print('Memory (before): {}Mb'.format(mp.memory_usage_resource()))"
   ]
  },
  {
   "cell_type": "code",
   "execution_count": 14,
   "metadata": {},
   "outputs": [
    {
     "name": "stdout",
     "output_type": "stream",
     "text": [
      "10\n"
     ]
    }
   ],
   "source": [
    "import statistics\n",
    "\n",
    "def drop_first_last(grades):\n",
    "    first, *middle, last = grades\n",
    "    middle = statistics.mean(middle)\n",
    "    print(middle)\n",
    "    #return avg(middle)\n",
    "    \n",
    "a = [10, 5, 15, 20]\n",
    "drop_first_last(a)"
   ]
  },
  {
   "cell_type": "code",
   "execution_count": 86,
   "metadata": {},
   "outputs": [
    {
     "name": "stdout",
     "output_type": "stream",
     "text": [
      "list [1, 2, 3, 4, 5]\n",
      "head 1\n",
      "tail [2, 3, 4, 5]\n",
      "\n",
      "list [2, 3, 4, 5]\n",
      "head 2\n",
      "tail [3, 4, 5]\n",
      "\n",
      "list [3, 4, 5]\n",
      "head 3\n",
      "tail [4, 5]\n",
      "\n",
      "list [4, 5]\n",
      "head 4\n",
      "tail [5]\n",
      "\n",
      "list [5]\n",
      "head 5\n",
      "tail []\n",
      "\n",
      "15\n",
      "\n",
      "[7]\n",
      "test 7\n",
      "test2 []\n",
      "False\n"
     ]
    }
   ],
   "source": [
    "def idk(items):\n",
    "    head, *tail = items\n",
    "    print('list', items)\n",
    "    print('head', head)\n",
    "    print('tail', tail)\n",
    "    print()\n",
    "    return head + idk(tail) if tail else head\n",
    "\n",
    "items = [1,2,3,4,5]\n",
    "tx = idk(items)\n",
    "print(tx)\n",
    "\n",
    "\n",
    "j = [7]\n",
    "test, *test2 = j\n",
    "print()\n",
    "print(j)\n",
    "print('test', test)\n",
    "print('test2', test2)\n",
    "\n",
    "\n",
    "if test2:\n",
    "    print(True)\n",
    "else:\n",
    "    print(False)"
   ]
  },
  {
   "cell_type": "code",
   "execution_count": 87,
   "metadata": {},
   "outputs": [
    {
     "ename": "FileNotFoundError",
     "evalue": "[Errno 2] No such file or directory: 'somefile.txt'",
     "output_type": "error",
     "traceback": [
      "\u001b[0;31m---------------------------------------------------------------------------\u001b[0m",
      "\u001b[0;31mFileNotFoundError\u001b[0m                         Traceback (most recent call last)",
      "\u001b[0;32m<ipython-input-87-393dff5c9f9b>\u001b[0m in \u001b[0;36m<module>\u001b[0;34m\u001b[0m\n\u001b[1;32m      9\u001b[0m \u001b[0;31m# Example use on a file\u001b[0m\u001b[0;34m\u001b[0m\u001b[0;34m\u001b[0m\u001b[0;34m\u001b[0m\u001b[0m\n\u001b[1;32m     10\u001b[0m \u001b[0;32mif\u001b[0m \u001b[0m__name__\u001b[0m \u001b[0;34m==\u001b[0m \u001b[0;34m'__main__'\u001b[0m\u001b[0;34m:\u001b[0m\u001b[0;34m\u001b[0m\u001b[0;34m\u001b[0m\u001b[0m\n\u001b[0;32m---> 11\u001b[0;31m     \u001b[0;32mwith\u001b[0m \u001b[0mopen\u001b[0m\u001b[0;34m(\u001b[0m\u001b[0;34m'somefile.txt'\u001b[0m\u001b[0;34m)\u001b[0m \u001b[0;32mas\u001b[0m \u001b[0mf\u001b[0m\u001b[0;34m:\u001b[0m\u001b[0;34m\u001b[0m\u001b[0;34m\u001b[0m\u001b[0m\n\u001b[0m\u001b[1;32m     12\u001b[0m         \u001b[0;32mfor\u001b[0m \u001b[0mline\u001b[0m\u001b[0;34m,\u001b[0m \u001b[0mprevlines\u001b[0m \u001b[0;32min\u001b[0m \u001b[0msearch\u001b[0m\u001b[0;34m(\u001b[0m\u001b[0mf\u001b[0m\u001b[0;34m,\u001b[0m \u001b[0;34m'python'\u001b[0m\u001b[0;34m,\u001b[0m \u001b[0;36m5\u001b[0m\u001b[0;34m)\u001b[0m\u001b[0;34m:\u001b[0m\u001b[0;34m\u001b[0m\u001b[0;34m\u001b[0m\u001b[0m\n\u001b[1;32m     13\u001b[0m             \u001b[0;32mfor\u001b[0m \u001b[0mpline\u001b[0m \u001b[0;32min\u001b[0m \u001b[0mprevlines\u001b[0m\u001b[0;34m:\u001b[0m\u001b[0;34m\u001b[0m\u001b[0;34m\u001b[0m\u001b[0m\n",
      "\u001b[0;31mFileNotFoundError\u001b[0m: [Errno 2] No such file or directory: 'somefile.txt'"
     ]
    }
   ],
   "source": [
    "from collections import deque\n",
    "def search(lines, pattern, history=5):\n",
    "    previous_lines = deque(maxlen=history)\n",
    "    for line in lines:\n",
    "        if pattern in line:\n",
    "            yield line, previous_lines\n",
    "    previous_lines.append(line)\n",
    "    \n",
    "# Example use on a file\n",
    "if __name__ == '__main__':\n",
    "    with open('somefile.txt') as f:\n",
    "        for line, prevlines in search(f, 'python', 5):\n",
    "            for pline in prevlines:\n",
    "                print(pline, end='')\n",
    "            print(line, end='')\n",
    "            print('-'*20)"
   ]
  },
  {
   "cell_type": "code",
   "execution_count": 91,
   "metadata": {},
   "outputs": [
    {
     "name": "stdout",
     "output_type": "stream",
     "text": [
      "5\n",
      "6\n",
      "7\n"
     ]
    }
   ],
   "source": [
    "def somefunction(s):\n",
    "    for i in range(3):\n",
    "        yield a+i\n",
    "        \n",
    "a = 5\n",
    "test = somefunction(a)\n",
    "for i in test:\n",
    "    print(i)"
   ]
  },
  {
   "cell_type": "code",
   "execution_count": 98,
   "metadata": {},
   "outputs": [
    {
     "data": {
      "text/plain": [
       "deque([2, 3, 4])"
      ]
     },
     "execution_count": 98,
     "metadata": {},
     "output_type": "execute_result"
    }
   ],
   "source": [
    "from collections import deque\n",
    "q = deque(maxlen=3)\n",
    "q.append(1)\n",
    "q.append(2)\n",
    "q.append(3)\n",
    "\n",
    "q.append(4)\n",
    "q"
   ]
  },
  {
   "cell_type": "code",
   "execution_count": null,
   "metadata": {},
   "outputs": [],
   "source": []
  }
 ],
 "metadata": {
  "kernelspec": {
   "display_name": "Python 3",
   "language": "python",
   "name": "python3"
  },
  "language_info": {
   "codemirror_mode": {
    "name": "ipython",
    "version": 3
   },
   "file_extension": ".py",
   "mimetype": "text/x-python",
   "name": "python",
   "nbconvert_exporter": "python",
   "pygments_lexer": "ipython3",
   "version": "3.8.3"
  }
 },
 "nbformat": 4,
 "nbformat_minor": 4
}
