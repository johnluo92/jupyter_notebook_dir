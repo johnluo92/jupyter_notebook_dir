{
 "cells": [
  {
   "cell_type": "code",
   "execution_count": 1,
   "metadata": {},
   "outputs": [
    {
     "name": "stdout",
     "output_type": "stream",
     "text": [
      "{9: 3, 25: 5, 144: 12, 169: 13}\n",
      "(5, 12)\n"
     ]
    }
   ],
   "source": [
    "def findPathagroreanTriplets(nums):\n",
    "    \n",
    "    # a**2 + b**2 = c**2\n",
    "    dic2 = {k**2:k for (k,v) in dict.items(dict.fromkeys(nums))}\n",
    "    print(dic2)\n",
    "    \n",
    "    for a in range(len(nums)):\n",
    "        b = a+1\n",
    "        while b < len(nums):\n",
    "            if nums[a]**2 + nums[b]**2 in dic2:\n",
    "                return (nums[a],nums[b])\n",
    "            b += 1\n",
    "    return False\n",
    "\n",
    "print(findPathagroreanTriplets([3,5,12,5,13]))\n",
    "\n",
    "# a = [1,2,3,4,5,6,7]\n",
    "\n",
    "# dic = {k**2:k for (k,_) in dict.items(dict.fromkeys(a))}\n",
    "# print(dic)\n",
    "# print()\n",
    "\n",
    "# my_name = 'Johnny Luo'\n",
    "\n",
    "# dic = dict.fromkeys(my_name)\n",
    "\n",
    "# print(dic)\n",
    "\n",
    "# x = 0\n",
    "# for i in dic:\n",
    "#     if x < len(dic):\n",
    "#         dic[i] = x\n",
    "#     x += 1\n",
    "    \n",
    "# print(dic)"
   ]
  },
  {
   "cell_type": "code",
   "execution_count": null,
   "metadata": {},
   "outputs": [],
   "source": []
  }
 ],
 "metadata": {
  "kernelspec": {
   "display_name": "Python 3",
   "language": "python",
   "name": "python3"
  },
  "language_info": {
   "codemirror_mode": {
    "name": "ipython",
    "version": 3
   },
   "file_extension": ".py",
   "mimetype": "text/x-python",
   "name": "python",
   "nbconvert_exporter": "python",
   "pygments_lexer": "ipython3",
   "version": "3.8.5"
  }
 },
 "nbformat": 4,
 "nbformat_minor": 4
}
