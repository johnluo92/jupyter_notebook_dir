{
 "cells": [
  {
   "cell_type": "code",
   "execution_count": 10,
   "metadata": {},
   "outputs": [
    {
     "name": "stdout",
     "output_type": "stream",
     "text": [
      "[[1 2 2]\n",
      " [4 1 6]\n",
      " [2 8 1]]\n",
      "first diagnal sum is:  3\n",
      "second diagnal sum is:  5\n",
      "absolute value of the two diagaols is: 2\n"
     ]
    }
   ],
   "source": [
    "#!/bin/python3\n",
    "\n",
    "import numpy as np\n",
    "import math\n",
    "import os\n",
    "import random\n",
    "import re\n",
    "import sys\n",
    "\n",
    "#Diagonal Difference\n",
    "#https://www.hackerrank.com/challenges/diagonal-difference/problem\n",
    "\n",
    "a = np.array([[1,2,2],[4,1,6],[2,8,1]])\n",
    "print(a)\n",
    "i=0\n",
    "\n",
    "#print(a)\n",
    "\n",
    "diag1 = 0\n",
    "diag2 = 0\n",
    "j=0\n",
    "#print(a[-1][-1])\n",
    "\n",
    "for i in range(len(a)):\n",
    "    diag1 += a[i][i]\n",
    "    diag2 += a[i][-1-j]\n",
    "    j+=1\n",
    "        \n",
    "print('first diagnal sum is: ', diag1)\n",
    "print('second diagnal sum is: ', diag2)\n",
    "print('absolute value of the two diagaols is:', abs(diag1-diag2))"
   ]
  },
  {
   "cell_type": "code",
   "execution_count": 82,
   "metadata": {},
   "outputs": [
    {
     "name": "stdout",
     "output_type": "stream",
     "text": [
      "5\n",
      "5 5 0 -1 -1\n",
      "0.400000\n",
      "0.400000\n",
      "0.200000\n"
     ]
    }
   ],
   "source": [
    "#!/bin/python3\n",
    "\n",
    "import math\n",
    "import os\n",
    "import random\n",
    "import re\n",
    "import sys\n",
    "\n",
    "#Plus Minus\n",
    "#https://www.hackerrank.com/challenges/plus-minus/problem\n",
    "\n",
    "# Complete the plusMinus function below.\n",
    "def plusMinus(arr):\n",
    "    #arraySize = input()\n",
    "    pos = neg = zer = 0\n",
    "    for i in arr:\n",
    "        if i == 0:\n",
    "            zer += 1\n",
    "        if i >= 1:\n",
    "            pos += 1\n",
    "        if i <= -1:\n",
    "            neg += 1\n",
    "            \n",
    "    print(\"{0:.6f}\".format(pos/len(arr)))\n",
    "    print('%.6f'%(neg/len(arr)))\n",
    "    print('%.6f'%(zer/len(arr)))\n",
    "\n",
    "if __name__ == '__main__':\n",
    "    n = int(input())\n",
    "\n",
    "    arr = list(map(int, input().rstrip().split()))\n",
    "\n",
    "    plusMinus(arr)\n"
   ]
  },
  {
   "cell_type": "code",
   "execution_count": 47,
   "metadata": {},
   "outputs": [
    {
     "name": "stdout",
     "output_type": "stream",
     "text": [
      "5\n",
      "0\n",
      "1\n",
      "2\n",
      "3\n",
      "4\n",
      "    #\n",
      "   ##\n",
      "  ###\n",
      " ####\n",
      "#####\n"
     ]
    }
   ],
   "source": [
    "#!/bin/python3\n",
    "\n",
    "#Staircase\n",
    "#https://www.hackerrank.com/challenges/staircase/problem\n",
    "\n",
    "import math\n",
    "import os\n",
    "import random\n",
    "import re\n",
    "import sys\n",
    "\n",
    "# Complete the staircase function below.\n",
    "def staircase(n):\n",
    "    \n",
    "    space = ' '\n",
    "    hashtag = '#'\n",
    "    output = ''\n",
    "    \n",
    "    spaceCount, hashCount = n, 0\n",
    "    \n",
    "    for i in range(n):\n",
    "        print(i)\n",
    "        spaceCount -= 1\n",
    "        hashCount += 1\n",
    "        #print(spaceCount*(space)+hashCount*(hashtag))\n",
    "        if(i!=n-1):\n",
    "            output += (spaceCount*(space)+hashCount*(hashtag))+'\\n'\n",
    "        if(i==n-1):\n",
    "            output += (spaceCount*(space)+hashCount*(hashtag))\n",
    "    \n",
    "    print(output)\n",
    "\n",
    "if __name__ == '__main__':\n",
    "    n = int(input())\n",
    "\n",
    "    staircase(n)\n"
   ]
  },
  {
   "cell_type": "code",
   "execution_count": 12,
   "metadata": {},
   "outputs": [
    {
     "name": "stdout",
     "output_type": "stream",
     "text": [
      "1 2 3 4 5\n",
      "10 14\n"
     ]
    }
   ],
   "source": [
    "#!/bin/python3\n",
    "\n",
    "#Mini-Max Sum\n",
    "#https://www.hackerrank.com/challenges/mini-max-sum/problem\n",
    "\n",
    "import math\n",
    "import os\n",
    "import random\n",
    "import re\n",
    "import sys\n",
    "import copy\n",
    "\n",
    "# Complete the miniMaxSum function below.\n",
    "def miniMaxSum(arr):\n",
    "    \n",
    "    #print(min(arr))\n",
    "    #print(max(arr))\n",
    "    #arr1 = copy.deepcopy(arr)\n",
    "    #a = arr1.remove(max(arr))\n",
    "    #arr.remove(min(arr))\n",
    "    #print(sum(arr1), sum(arr))\n",
    "    \n",
    "    arrayForMin = copy.deepcopy(arr)\n",
    "    arrayForMax = copy.deepcopy(arr)\n",
    "    arrayForMin.remove(max(arrayForMin))\n",
    "    arrayForMax.remove(min(arrayForMax))\n",
    "    print(sum(arrayForMin), sum(arrayForMax))\n",
    "    \n",
    "if __name__ == '__main__':\n",
    "    arr = list(map(int, input().rstrip().split()))\n",
    "\n",
    "    miniMaxSum(arr)\n"
   ]
  },
  {
   "cell_type": "code",
   "execution_count": 24,
   "metadata": {},
   "outputs": [
    {
     "name": "stdout",
     "output_type": "stream",
     "text": [
      "5\n",
      "1 2 3 4 5\n",
      "0\n"
     ]
    }
   ],
   "source": [
    "#!/bin/python3\n",
    "\n",
    "#Birthday Cake Candles\n",
    "#https://www.hackerrank.com/challenges/birthday-cake-candles/problem\n",
    "\n",
    "import math\n",
    "import os\n",
    "import random\n",
    "import re\n",
    "import sys\n",
    "import numpy as np\n",
    "\n",
    "# Complete the birthdayCakeCandles function below.\n",
    "def birthdayCakeCandles(ar):\n",
    "    \n",
    "    tallestCandle = max(ar)\n",
    "    occur = np.count_nonzero(ar==tallestCandle)\n",
    "    \n",
    "    print(occur)\n",
    "\n",
    "if __name__ == '__main__':\n",
    "\n",
    "    ar_count = int(input())\n",
    "\n",
    "    ar = list(map(int, input().rstrip().split()))\n",
    "\n",
    "    result = birthdayCakeCandles(ar)\n"
   ]
  },
  {
   "cell_type": "code",
   "execution_count": 39,
   "metadata": {},
   "outputs": [
    {
     "name": "stdout",
     "output_type": "stream",
     "text": [
      "4\n",
      "2\n"
     ]
    }
   ],
   "source": [
    "#Birthday Cake Candles\n",
    "#https://www.hackerrank.com/challenges/birthday-cake-candles/problem\n",
    "\n",
    "list_num = [1, 2, 3, 4, 4]\n",
    "\n",
    "maxval = max(list_num)\n",
    "print(maxval)\n",
    "\n",
    "occur = list_num.count(maxval)\n",
    "\n",
    "print(occur)\n",
    "\n",
    "#tup_num = (1, 2, 3)\n",
    "\n",
    "#dir(list_num)\n",
    "#dir(tup_num)"
   ]
  },
  {
   "cell_type": "code",
   "execution_count": 153,
   "metadata": {},
   "outputs": [
    {
     "name": "stdout",
     "output_type": "stream",
     "text": [
      "12:00:00AM\n",
      "00:00:00\n"
     ]
    }
   ],
   "source": [
    "#!/bin/python3\n",
    "\n",
    "#Time Conversion\n",
    "#https://www.hackerrank.com/challenges/time-conversion/problem\n",
    "\n",
    "import os\n",
    "import sys\n",
    "import string\n",
    "\n",
    "#\n",
    "# Complete the timeConversion function below.\n",
    "#\n",
    "def timeConversion(s):\n",
    "    #\n",
    "    # Write your code here.\n",
    "    #\n",
    "    AMorPM = s[-2:]\n",
    "    hr = s[:2]\n",
    "    newTime = ''\n",
    "    if(hr=='12' and AMorPM=='AM'):\n",
    "        newTime = str('00')+s[2:-2]\n",
    "    elif(hr=='12' and AMorPM=='PM'):\n",
    "        newTime = s[:-2]\n",
    "    elif(hr!='12' and AMorPM=='PM'):\n",
    "        newTime = str(int(hr)+12)+s[2:-2]\n",
    "    else:\n",
    "        newTime = s[:-2]\n",
    "\n",
    "    print(newTime)\n",
    "    return newTime\n",
    "\n",
    "if __name__ == '__main__':\n",
    "\n",
    "    s = input()\n",
    "\n",
    "    result = timeConversion(s)\n",
    "\n"
   ]
  },
  {
   "cell_type": "code",
   "execution_count": 231,
   "metadata": {},
   "outputs": [
    {
     "name": "stdout",
     "output_type": "stream",
     "text": [
      "True\n",
      "<class 'list'>\n",
      "[1, 1]\n"
     ]
    }
   ],
   "source": [
    "a = [1, 2, 3]\n",
    "b = [3, 2, 1]\n",
    "\n",
    "lenA = len(a)\n",
    "lenB = len(b)\n",
    "\n",
    "same = False\n",
    "\n",
    "if lenA == lenB:\n",
    "    same = True\n",
    "    pass\n",
    "\n",
    "aScore = 0\n",
    "bScore = 0\n",
    "\n",
    "if same:\n",
    "    for i in range(lenA):\n",
    "        if a[i] > b[i]:\n",
    "            aScore+=1\n",
    "        elif a[i] < b[i]:\n",
    "            bScore+=1\n",
    "        else:\n",
    "            pass\n",
    "\n",
    "output = [aScore, bScore]\n",
    "print(output)"
   ]
  }
 ],
 "metadata": {
  "kernelspec": {
   "display_name": "Python 3",
   "language": "python",
   "name": "python3"
  },
  "language_info": {
   "codemirror_mode": {
    "name": "ipython",
    "version": 3
   },
   "file_extension": ".py",
   "mimetype": "text/x-python",
   "name": "python",
   "nbconvert_exporter": "python",
   "pygments_lexer": "ipython3",
   "version": "3.8.3"
  }
 },
 "nbformat": 4,
 "nbformat_minor": 4
}
