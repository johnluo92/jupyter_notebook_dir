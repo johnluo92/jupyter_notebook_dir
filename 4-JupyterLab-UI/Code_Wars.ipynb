{
 "cells": [
  {
   "cell_type": "markdown",
   "metadata": {},
   "source": [
    "1. DFS\n",
    "2. BFS\n",
    "3. Matching Parenthesis problem\n",
    "4. Using Hash Tables\n",
    "5. Variables/Pointers manipulation\n",
    "6. reverse linked list (duplicates , removing duplicates)\n",
    "7. sorting fundamentals (quicksort, mergesort,bubblesort techniques ,\n",
    "   runtime of a sort,time space complexity)\n",
    "8. Recursion\n",
    "9. custom data structures (object oriented programming)\n",
    "10.Binary search\n",
    "** thank me later**"
   ]
  },
  {
   "cell_type": "code",
   "execution_count": 48,
   "metadata": {},
   "outputs": [
    {
     "name": "stdout",
     "output_type": "stream",
     "text": [
      "['A', 'B', 'C', 'D', 'A', 'B']\n"
     ]
    }
   ],
   "source": [
    "#https://www.codewars.com/kata/54e6533c92449cc251001667/train/python\n",
    "\n",
    "def unique_in_order(iterable):\n",
    "    unique = ''\n",
    "    new_list = []\n",
    "    \n",
    "    for i in range(len(iterable)):\n",
    "        if i == 0:\n",
    "            new_list.append(iterable[i])\n",
    "        else:\n",
    "            if iterable[i] == iterable[i-1]:\n",
    "                pass\n",
    "            else:\n",
    "                new_list.append(iterable[i])\n",
    "    \n",
    "    print(new_list)\n",
    "        \n",
    "        \n",
    "unique_in_order('AAAABBBCCDAABBB') #AAAABBBCCDAABBB"
   ]
  },
  {
   "cell_type": "code",
   "execution_count": 1,
   "metadata": {},
   "outputs": [
    {
     "name": "stdout",
     "output_type": "stream",
     "text": [
      "x\n",
      "x\n",
      "o\n",
      "x\n",
      "o\n",
      "x\n",
      "o\n",
      "x\n",
      "o\n",
      "s\n",
      "d\n",
      "s\n",
      "d\n",
      "x\n",
      "o\n",
      "s\n",
      "o\n",
      "x\n",
      "o\n",
      "xarr = ['x', 'x', 'x', 'x', 'x', 'x', 'x']\n",
      "oarr = ['o', 'o', 'o', 'o', 'o', 'o', 'o']\n"
     ]
    },
    {
     "data": {
      "text/plain": [
       "True"
      ]
     },
     "execution_count": 1,
     "metadata": {},
     "output_type": "execute_result"
    }
   ],
   "source": [
    "'''Check to see if a string has the same\n",
    "amount of 'x's and 'o's. The method must\n",
    "return a boolean and be case insensitive.\n",
    "The string can contain any char.'''\n",
    "\n",
    "def xo(s):\n",
    "    \n",
    "    xarr = []\n",
    "    oarr = []\n",
    "    \n",
    "    for i in range(len(s)):\n",
    "        print(s[i])\n",
    "        if s[i] == 'x' or s[i] == 'X':\n",
    "            xarr.append(s[i])\n",
    "        elif s[i] == 'o' or s[i] == 'O':\n",
    "            oarr.append(s[i])\n",
    "        else:\n",
    "            pass\n",
    "    \n",
    "    if len(xarr) == len(oarr):\n",
    "        print('xarr =', xarr)\n",
    "        print('oarr =', oarr)\n",
    "        return True\n",
    "    else:\n",
    "        return False\n",
    "            \n",
    "xo(\"xxoxoxoxosdsdxosoxo\")"
   ]
  },
  {
   "cell_type": "code",
   "execution_count": 76,
   "metadata": {},
   "outputs": [
    {
     "data": {
      "text/plain": [
       "True"
      ]
     },
     "execution_count": 76,
     "metadata": {},
     "output_type": "execute_result"
    }
   ],
   "source": [
    "def xo(s):\n",
    "    s = s.lower()\n",
    "    return s.count('x') is s.count('o')\n",
    "\n",
    "xo(\"aifl43rxx00ooxxoXXOoo\")"
   ]
  },
  {
   "cell_type": "code",
   "execution_count": 12,
   "metadata": {},
   "outputs": [
    {
     "name": "stdout",
     "output_type": "stream",
     "text": [
      "7\n"
     ]
    },
    {
     "data": {
      "text/plain": [
       "27"
      ]
     },
     "execution_count": 12,
     "metadata": {},
     "output_type": "execute_result"
    }
   ],
   "source": [
    "'''Given the triangle of consecutive odd numbers:\n",
    "             1\n",
    "          3     5\n",
    "       7     9    11\n",
    "   13    15    17    19\n",
    "21    23    25    27    29\n",
    "...\n",
    "\n",
    "Calculate the row sums of this triangle from the row index (starting at index 1) e.g.:\n",
    "\n",
    "row_sum_odd_numbers(1); # 1\n",
    "row_sum_odd_numbers(2); # 3 + 5 = 8\n",
    "'''\n",
    "\n",
    "def row_sum_odd_numbers(n):\n",
    "    start = (n - 1) * n + 1 #1*3 n=w\n",
    "    first = (n - 1) * n + 1 #1*3 n=2\n",
    "    a = 2\n",
    "    \n",
    "    print(start)\n",
    "    \n",
    "    if n == 1:\n",
    "        return (1)\n",
    "    \n",
    "    for i in range(n-1):\n",
    "        first += (a+start)\n",
    "        a+= 2\n",
    "        \n",
    "    return (first)\n",
    "\n",
    "row_sum_odd_numbers(3)"
   ]
  },
  {
   "cell_type": "code",
   "execution_count": 13,
   "metadata": {},
   "outputs": [
    {
     "data": {
      "text/plain": [
       "False"
      ]
     },
     "execution_count": 13,
     "metadata": {},
     "output_type": "execute_result"
    }
   ],
   "source": [
    "'''Write a function called that takes a string of parentheses,\n",
    "and determines if the order of the parentheses is valid.\n",
    "The function should return true if the string is valid, and false if it's invalid.\n",
    "\n",
    "Examples\n",
    "\"()\"              =>  true\n",
    "\")(()))\"          =>  false\n",
    "\"(\"               =>  false\n",
    "\"(())((()())())\"  =>  true'''\n",
    "\n",
    "def valid_parentheses(string):\n",
    "    #your code here\n",
    "    left = '('\n",
    "    right= ')'\n",
    "    a = b = 0\n",
    "    \n",
    "    #print(dir(left))\n",
    "    \n",
    "    for i in range(len(string)):\n",
    "        if a < b: return False\n",
    "        else:\n",
    "            if string[i] == '(': a += 1\n",
    "            if string[i] == ')': b += 1\n",
    "    return True if a == b else False\n",
    "            \n",
    "valid_parentheses('hi(hi)()')"
   ]
  },
  {
   "cell_type": "code",
   "execution_count": 228,
   "metadata": {},
   "outputs": [
    {
     "name": "stdout",
     "output_type": "stream",
     "text": [
      "9 5 11 2 0 7 \n"
     ]
    },
    {
     "data": {
      "text/plain": [
       "13"
      ]
     },
     "execution_count": 228,
     "metadata": {},
     "output_type": "execute_result"
    }
   ],
   "source": [
    "import numpy as np\n",
    "\n",
    "x = np.random.randint(0,12,6)\n",
    "y = ''\n",
    "for i in x:\n",
    "    y += str(i) +' '\n",
    "    \n",
    "print(y)\n",
    "len(y)"
   ]
  },
  {
   "cell_type": "code",
   "execution_count": 373,
   "metadata": {},
   "outputs": [
    {
     "name": "stdout",
     "output_type": "stream",
     "text": [
      "start 0\n",
      "next not matched ([\n",
      "inbetween matched\n",
      "start 1\n",
      "next not matched [{\n",
      "inbetween matched\n",
      "start 2\n",
      "next matched {}\n",
      "matched\n",
      "inbetween matched\n",
      "start 3\n",
      "start 4\n",
      "start 5\n",
      "0\n"
     ]
    },
    {
     "data": {
      "text/plain": [
       "True"
      ]
     },
     "execution_count": 373,
     "metadata": {},
     "output_type": "execute_result"
    }
   ],
   "source": [
    "def validBraces(string):\n",
    "\n",
    "    lp = '([{'\n",
    "    rp = ')]}'\n",
    "    cnt = 0\n",
    "    nhor = False\n",
    "    \n",
    "    \n",
    "    for i in range(len(string)):\n",
    "        print('start', i)\n",
    "        if lp.find(string[i]) != -1:\n",
    "            cnt += 1\n",
    "        elif rp.find(string[i]) != -1:\n",
    "            cnt -= 1\n",
    "        if cnt < 0:\n",
    "            return False\n",
    "        \n",
    "        if nhor == True:\n",
    "            nhbor = False\n",
    "            continue\n",
    "        \n",
    "        if i != len(string)-1:\n",
    "            current = string[i]+string[i+1]\n",
    "            inbetween = string[i]+string[-i-1]\n",
    "            if current != '[]' and current != '()' and current != '{}':\n",
    "                print('next not matched', current)\n",
    "                if inbetween != '[]' and inbetween != '()' and inbetween != '{}':\n",
    "                    print('inbetween not matched', inbetween)\n",
    "                    return False\n",
    "            elif current == '[]' or current == '()' or current == '{}':\n",
    "                print('next matched', string[i]+string[i+1])\n",
    "                print('matched')\n",
    "                nhor = True\n",
    "            print('inbetween matched')\n",
    "        \n",
    "        \n",
    "    if cnt != 0:\n",
    "        return False\n",
    "    print(cnt)\n",
    "    return True\n",
    "\n",
    "validBraces('([{}])')"
   ]
  },
  {
   "cell_type": "code",
   "execution_count": 331,
   "metadata": {},
   "outputs": [
    {
     "name": "stdout",
     "output_type": "stream",
     "text": [
      "]\n",
      "0\n",
      "([\n",
      "6\n"
     ]
    }
   ],
   "source": [
    "left = '([{}])'\n",
    "\n",
    "print(left[-2])\n",
    "print(left.index(left[0]))\n",
    "print(left[0]+left[1])\n",
    "print(len(left))"
   ]
  },
  {
   "cell_type": "code",
   "execution_count": 15,
   "metadata": {},
   "outputs": [
    {
     "data": {
      "text/plain": [
       "True"
      ]
     },
     "execution_count": 15,
     "metadata": {},
     "output_type": "execute_result"
    }
   ],
   "source": [
    "#a better implementation of the above using hashtable\n",
    "def validBraces(string):\n",
    "    braces = {'(':')', '[':']', '{':'}'}\n",
    "    stack = []\n",
    "    \n",
    "    for char in string:\n",
    "        if char in braces.keys():\n",
    "            stack.append(char)\n",
    "        else:\n",
    "            if len(stack) == 0 or braces[stack.pop()] != char:\n",
    "                return False\n",
    "    return False if len(stack) != 0 else True\n",
    "    \n",
    "validBraces('()[]{{}}[()]')"
   ]
  },
  {
   "cell_type": "code",
   "execution_count": 62,
   "metadata": {},
   "outputs": [
    {
     "name": "stdout",
     "output_type": "stream",
     "text": [
      "the\n",
      "7\n",
      "4\n",
      "7 4 \n"
     ]
    }
   ],
   "source": [
    "import string\n",
    "\n",
    "#test = \"The sunset sets at twelve o' clock.\"\n",
    "test = 'The'\n",
    "a = ''\n",
    "\n",
    "print(test.lower())\n",
    "\n",
    "for i in test:\n",
    "    try:\n",
    "        if i.isalpha:\n",
    "            print(string.ascii_lowercase.index(i))\n",
    "            a += str(string.ascii_lowercase.index(i)) + ' '\n",
    "    except: pass\n",
    "    \n",
    "    \n",
    "print(a)"
   ]
  },
  {
   "cell_type": "code",
   "execution_count": 80,
   "metadata": {},
   "outputs": [
    {
     "data": {
      "text/plain": [
       "'20 8 5 14 1 18 23 8 1 12 2 1 3 15 14 19 1 20 13 9 4 14 9 7 8 20'"
      ]
     },
     "execution_count": 80,
     "metadata": {},
     "output_type": "execute_result"
    }
   ],
   "source": [
    "import string\n",
    "def alphabet_position(text):\n",
    "    \n",
    "    text = text.lower()\n",
    "    a = ''\n",
    "    for i in text:\n",
    "        try:\n",
    "            if i.isalpha: a += str(string.ascii_lowercase.index(i)+1)+' '\n",
    "        except: pass\n",
    "    return a.strip()\n",
    "\n",
    "#alphabet_position(\"The sunset sets at twelve o' clock.\")\n",
    "alphabet_position(\"The narwhal bacons at midnight.\")"
   ]
  },
  {
   "cell_type": "code",
   "execution_count": 84,
   "metadata": {},
   "outputs": [
    {
     "data": {
      "text/plain": [
       "'1'"
      ]
     },
     "execution_count": 84,
     "metadata": {},
     "output_type": "execute_result"
    }
   ],
   "source": [
    "def alphabet_position(text):\n",
    "    return ' '.join(str(ord(c) - 96) for c in text.lower() if c.isalpha())\n",
    "\n",
    "alphabet_position('A')"
   ]
  },
  {
   "cell_type": "code",
   "execution_count": 163,
   "metadata": {},
   "outputs": [
    {
     "name": "stdout",
     "output_type": "stream",
     "text": [
      "('NORTH', 'SOUTH')\n",
      "[('NORTH', 'SOUTH'), ('SOUTH', 'SOUTH'), ('SOUTH', 'EAST'), ('EAST', 'WEST'), ('WEST', 'NORTH'), ('NORTH', 'WEST')]\n"
     ]
    }
   ],
   "source": [
    "test_list = [0, 1, 2, 3, 4, 5] \n",
    "a = [\"NORTH\", \"SOUTH\", \"SOUTH\", \"EAST\", \"WEST\", \"NORTH\", \"WEST\"]\n",
    "  \n",
    "# using zip() + list slicing  \n",
    "# to perform pair iteration in list  \n",
    "res = list(zip(a, a[1:])) \n",
    "print(res[0])\n",
    "print(res)"
   ]
  },
  {
   "cell_type": "code",
   "execution_count": 190,
   "metadata": {},
   "outputs": [
    {
     "name": "stdout",
     "output_type": "stream",
     "text": [
      "[('NORTH', 'SOUTH'), ('SOUTH', 'SOUTH'), ('SOUTH', 'EAST'), ('EAST', 'WEST'), ('WEST', 'NORTH'), ('NORTH', 'WEST')]\n",
      "test [('SOUTH', 'SOUTH'), ('SOUTH', 'EAST'), ('WEST', 'NORTH'), ('NORTH', 'WEST')]\n",
      "[('SOUTH', 'SOUTH', 'WEST', 'NORTH'), ('SOUTH', 'EAST', 'NORTH', 'WEST')]\n",
      "[('SOUTH', 'SOUTH'), ('SOUTH', 'EAST'), ('WEST', 'NORTH'), ('NORTH', 'WEST')]\n"
     ]
    }
   ],
   "source": [
    "def dirReduc(arr):\n",
    "    \n",
    "    dic = {\n",
    "        'west':'east',\n",
    "        'east':'west',\n",
    "        'north':'south',\n",
    "        'south':'north'\n",
    "    }\n",
    "    \n",
    "    res = list(zip(arr, arr[1:]))\n",
    "    print(res)\n",
    "    \n",
    "    test = True\n",
    "    \n",
    "# while test:\n",
    "    for i in res:\n",
    "#             print(i[0].lower(),dic[i[1].lower()])\n",
    "        if i[0].lower() == dic[i[1].lower()]:\n",
    "            res.remove(i)\n",
    "            \n",
    "    return res\n",
    "                \n",
    "        \n",
    "        \n",
    "a = [\"NORTH\", \"SOUTH\", \"SOUTH\", \"EAST\", \"WEST\", \"NORTH\", \"WEST\"]  \n",
    "b = dirReduc(a)\n",
    "print('test',b)\n",
    "b= list(zip(*b))\n",
    "print(b)\n",
    "print(list(zip(*b)))"
   ]
  },
  {
   "cell_type": "code",
   "execution_count": 255,
   "metadata": {},
   "outputs": [
    {
     "name": "stdout",
     "output_type": "stream",
     "text": [
      "0\n",
      "before ['NORTH', 'SOUTH', 'SOUTH', 'EAST', 'WEST', 'NORTH', 'WEST']\n",
      "after ['SOUTH', 'EAST', 'WEST', 'NORTH', 'WEST']\n",
      "0\n",
      "1\n",
      "before ['SOUTH', 'EAST', 'WEST', 'NORTH', 'WEST']\n",
      "after ['SOUTH', 'NORTH', 'WEST']\n",
      "0\n",
      "before ['SOUTH', 'NORTH', 'WEST']\n",
      "after ['WEST']\n",
      "\n",
      "final: ['WEST']\n"
     ]
    }
   ],
   "source": [
    "def dirReduc(arr):\n",
    "    \n",
    "    dic = {\n",
    "        'west':'east',\n",
    "        'east':'west',\n",
    "        'north':'south',\n",
    "        'south':'north'\n",
    "    }\n",
    "    j = []\n",
    "    test = True\n",
    "    while test:\n",
    "        test = False\n",
    "        for i in range(len(arr)-1):\n",
    "            print(i)\n",
    "            if arr[i].lower() == dic[arr[i+1].lower()]:\n",
    "                print('before', arr)\n",
    "                arr.pop(i+1)\n",
    "                arr.pop(i)\n",
    "                test = True\n",
    "                print('after', arr)\n",
    "                break\n",
    "#         print('index to be deleted:', j)\n",
    "#         for i in range(len(j)):\n",
    "#             arr.pop(i)\n",
    "#         j = []\n",
    "    print()\n",
    "    print('final:', arr)\n",
    "            \n",
    "a = [\"NORTH\", \"SOUTH\", \"SOUTH\", \"EAST\", \"WEST\", \"NORTH\", \"WEST\"] \n",
    "dirReduc(a)"
   ]
  },
  {
   "cell_type": "code",
   "execution_count": 215,
   "metadata": {},
   "outputs": [
    {
     "name": "stdout",
     "output_type": "stream",
     "text": [
      "NORTH\n",
      "['NORTH', 'SOUTH', 'SOUTH', 'EAST', 'WEST', 'WEST']\n"
     ]
    }
   ],
   "source": [
    "pp = [\"NORTH\", \"SOUTH\", \"SOUTH\", \"EAST\", \"WEST\", \"NORTH\", \"WEST\"]  \n",
    "print(pp[5])\n",
    "pp.pop(5)\n",
    "\n",
    "print(pp)"
   ]
  },
  {
   "cell_type": "code",
   "execution_count": 261,
   "metadata": {},
   "outputs": [
    {
     "name": "stdout",
     "output_type": "stream",
     "text": [
      "False\n"
     ]
    },
    {
     "data": {
      "text/plain": [
       "['s', 's']"
      ]
     },
     "execution_count": 261,
     "metadata": {},
     "output_type": "execute_result"
    }
   ],
   "source": [
    "plan = []\n",
    "\n",
    "if plan:\n",
    "    print(True)\n",
    "else:\n",
    "    print(False)\n",
    "    \n",
    "a = 's,s'\n",
    "a.split(',')"
   ]
  },
  {
   "cell_type": "code",
   "execution_count": 354,
   "metadata": {},
   "outputs": [
    {
     "name": "stdout",
     "output_type": "stream",
     "text": [
      "[20, 37, 20, 21]\n",
      "Counter({20: 2, 37: 1, 21: 1})\n",
      "0\n",
      "count 2\n",
      "value 20\n",
      "test 20\n",
      "index of  20\n"
     ]
    },
    {
     "ename": "IndexError",
     "evalue": "list index out of range",
     "output_type": "error",
     "traceback": [
      "\u001b[0;31m---------------------------------------------------------------------------\u001b[0m",
      "\u001b[0;31mIndexError\u001b[0m                                Traceback (most recent call last)",
      "\u001b[0;32m<ipython-input-354-a7b4f70b1cc6>\u001b[0m in \u001b[0;36m<module>\u001b[0;34m\u001b[0m\n\u001b[1;32m     15\u001b[0m \u001b[0;32mfor\u001b[0m \u001b[0mvalue\u001b[0m \u001b[0;32min\u001b[0m \u001b[0mc\u001b[0m\u001b[0;34m:\u001b[0m\u001b[0;34m\u001b[0m\u001b[0;34m\u001b[0m\u001b[0m\n\u001b[1;32m     16\u001b[0m     \u001b[0;32mfor\u001b[0m \u001b[0mi\u001b[0m \u001b[0;32min\u001b[0m \u001b[0mrange\u001b[0m\u001b[0;34m(\u001b[0m\u001b[0mlen\u001b[0m\u001b[0;34m(\u001b[0m\u001b[0mb\u001b[0m\u001b[0;34m)\u001b[0m\u001b[0;34m)\u001b[0m\u001b[0;34m:\u001b[0m\u001b[0;34m\u001b[0m\u001b[0;34m\u001b[0m\u001b[0m\n\u001b[0;32m---> 17\u001b[0;31m         \u001b[0;32mif\u001b[0m \u001b[0mc\u001b[0m\u001b[0;34m[\u001b[0m\u001b[0mb\u001b[0m\u001b[0;34m[\u001b[0m\u001b[0mi\u001b[0m\u001b[0;34m]\u001b[0m\u001b[0;34m]\u001b[0m \u001b[0;34m>\u001b[0m \u001b[0mn\u001b[0m \u001b[0;32mand\u001b[0m \u001b[0mb\u001b[0m\u001b[0;34m[\u001b[0m\u001b[0mi\u001b[0m\u001b[0;34m]\u001b[0m \u001b[0;34m==\u001b[0m \u001b[0mvalue\u001b[0m\u001b[0;34m:\u001b[0m\u001b[0;34m\u001b[0m\u001b[0;34m\u001b[0m\u001b[0m\n\u001b[0m\u001b[1;32m     18\u001b[0m             \u001b[0mprint\u001b[0m\u001b[0;34m(\u001b[0m\u001b[0;34m'count'\u001b[0m\u001b[0;34m,\u001b[0m \u001b[0mc\u001b[0m\u001b[0;34m[\u001b[0m\u001b[0mvalue\u001b[0m\u001b[0;34m]\u001b[0m\u001b[0;34m)\u001b[0m\u001b[0;34m\u001b[0m\u001b[0;34m\u001b[0m\u001b[0m\n\u001b[1;32m     19\u001b[0m             \u001b[0mprint\u001b[0m\u001b[0;34m(\u001b[0m\u001b[0;34m'value'\u001b[0m\u001b[0;34m,\u001b[0m \u001b[0mvalue\u001b[0m\u001b[0;34m)\u001b[0m\u001b[0;34m\u001b[0m\u001b[0;34m\u001b[0m\u001b[0m\n",
      "\u001b[0;31mIndexError\u001b[0m: list index out of range"
     ]
    }
   ],
   "source": [
    "a = {3,2,1,3,2,1}\n",
    "b = ['jake','john','jesse','jesse', 'jesse', 'john']\n",
    "b = [20,37,20,21]\n",
    "print(b)\n",
    "import string\n",
    "\n",
    "from collections import Counter\n",
    "\n",
    "n=1\n",
    "\n",
    "c = Counter(b)\n",
    "print(c)\n",
    "print(c['jake'])\n",
    "\n",
    "for value in c:\n",
    "    for i in range(len(b)):\n",
    "        if c[b[i]] > n and b[i] == value:\n",
    "            print('count', c[value])\n",
    "            print('value', value)\n",
    "            print('test', b[i])\n",
    "            c[b[i]] -= 1\n",
    "            print('index of ', b[i])\n",
    "            b.pop(i)\n",
    "            \n",
    "#             b.pop(b.index(i))\n",
    "print(b)\n",
    "         "
   ]
  },
  {
   "cell_type": "code",
   "execution_count": 358,
   "metadata": {},
   "outputs": [
    {
     "name": "stdout",
     "output_type": "stream",
     "text": [
      "[20, 37, 20, 21]\n",
      "[20, 37, 21]\n"
     ]
    }
   ],
   "source": [
    "#https://www.codewars.com/kata/554ca54ffa7d91b236000023/solutions/python\n",
    "\n",
    "a = {3,2,1,3,2,1}\n",
    "b = ['jake','john','jesse','jesse', 'jesse', 'john']\n",
    "b = [20,37,20,21]\n",
    "new_list = []\n",
    "print(b)\n",
    "\n",
    "from collections import Counter\n",
    "\n",
    "n=1\n",
    "\n",
    "for i in b:\n",
    "    if new_list.count(i) < n: new_list.append(i)\n",
    "print(new_list)\n",
    "         "
   ]
  },
  {
   "cell_type": "code",
   "execution_count": 355,
   "metadata": {},
   "outputs": [
    {
     "data": {
      "text/plain": [
       "1"
      ]
     },
     "execution_count": 355,
     "metadata": {},
     "output_type": "execute_result"
    }
   ],
   "source": [
    "b = ['jake','john','jesse','jesse', 'jesse', 'john']\n",
    "\n",
    "b.count('jake')"
   ]
  },
  {
   "cell_type": "code",
   "execution_count": 558,
   "metadata": {},
   "outputs": [
    {
     "name": "stdout",
     "output_type": "stream",
     "text": [
      "abc12\\de 23 \n",
      " f45 6\n"
     ]
    }
   ],
   "source": [
    "\n",
    "import re\n",
    "\n",
    "# multiline string\n",
    "string = 'abc 12\\de 23 \\n f45 6'\n",
    "\n",
    "# matches all whitespace characters\n",
    "pattern = re.compile('\\s+')\n",
    "replace = ''\n",
    "\n",
    "new_string = re.sub(r'\\s+', replace, string, 1) \n",
    "print(new_string)\n",
    "\n",
    "# Output:\n",
    "# abc12de 23\n",
    "# f45 6"
   ]
  },
  {
   "cell_type": "code",
   "execution_count": 645,
   "metadata": {},
   "outputs": [
    {
     "name": "stdout",
     "output_type": "stream",
     "text": [
      "['#']\n",
      "\n"
     ]
    },
    {
     "data": {
      "text/plain": [
       "'apples\\n'"
      ]
     },
     "execution_count": 645,
     "metadata": {},
     "output_type": "execute_result"
    }
   ],
   "source": [
    "# result = solution(\"apples, pears # and bananas\\ngrapes\\nbananas !apples\", [\"#\", \"!\"])\n",
    "# result should == \"apples, pears\\ngrapes\\nbananas\"\n",
    "\n",
    "import re\n",
    "\n",
    "# a = \"apples, pears # and bananas\\ngrapes\\nbananas !apples\"\n",
    "# a = 'b\\nc\\nd $e f g'\n",
    "a = 'apples\\n#'\n",
    "# pattern = r'#(.*?)\\n'\n",
    "pattern = re.compile(r'#.*')\n",
    "# pattern = re.compile('#.*')\n",
    "\n",
    "\n",
    "print(re.findall(pattern, a))\n",
    "print()\n",
    "a = re.sub(pattern, '', a)\n",
    "# /print(re.split(pattern, a))\n",
    "a"
   ]
  },
  {
   "cell_type": "code",
   "execution_count": 465,
   "metadata": {},
   "outputs": [
    {
     "name": "stdout",
     "output_type": "stream",
     "text": [
      "apples, pears\n",
      "grapes\n",
      "bananas\n"
     ]
    }
   ],
   "source": [
    "print('apples, pears\\ngrapes\\nbananas')"
   ]
  },
  {
   "cell_type": "code",
   "execution_count": 653,
   "metadata": {},
   "outputs": [
    {
     "data": {
      "text/plain": [
       "'watermelons avocados apples\\nlemons\\n'"
      ]
     },
     "execution_count": 653,
     "metadata": {},
     "output_type": "execute_result"
    }
   ],
   "source": [
    "def solution(string,markers):\n",
    "    for i in markers:\n",
    "        string = re.sub(' ?\\\\'+i+'.*', '', string)\n",
    "    return string\n",
    "        \n",
    "j = solution('watermelons avocados apples #\\nlemons ^ pears apples apples\\n#', ['-', '@', ',', '.', \"'\", '#', '!', '^'])\n",
    "# j = solution(\"a #b\\nc\\nd $e f g\", [\"#\", \"$\"])\n",
    "j"
   ]
  },
  {
   "cell_type": "code",
   "execution_count": 599,
   "metadata": {},
   "outputs": [
    {
     "name": "stdout",
     "output_type": "stream",
     "text": [
      "#.*\n"
     ]
    }
   ],
   "source": [
    "# 'watermelons avocados apples\\nlemons\\n'\n",
    "test = '#'\n",
    "test += '.*'\n",
    "print(test)"
   ]
  },
  {
   "cell_type": "markdown",
   "metadata": {},
   "source": [
    "# practice"
   ]
  },
  {
   "cell_type": "code",
   "execution_count": 9,
   "metadata": {},
   "outputs": [
    {
     "name": "stdout",
     "output_type": "stream",
     "text": [
      "[1, 4, 7]\n",
      "[2, 5, 8]\n",
      "[3, 6, 9]\n"
     ]
    }
   ],
   "source": [
    "matrix = [\n",
    "    [1, 2, 3],\n",
    "    [4, 5, 6],\n",
    "    [7, 8, 9]\n",
    "]\n",
    "j = [[row[i] for row in matrix] for i in range(3)]\n",
    "for i in j:\n",
    "    print(i)"
   ]
  },
  {
   "cell_type": "code",
   "execution_count": 8,
   "metadata": {},
   "outputs": [
    {
     "name": "stdout",
     "output_type": "stream",
     "text": [
      "[[0, 1, 2], [0, 1, 2], [0, 1, 2]]\n"
     ]
    }
   ],
   "source": [
    "\n",
    "matrix = [[row for row in range(3)] for i in range(3)]\n",
    "print(matrix)"
   ]
  },
  {
   "cell_type": "code",
   "execution_count": 10,
   "metadata": {},
   "outputs": [],
   "source": [
    "j = 'g',"
   ]
  },
  {
   "cell_type": "code",
   "execution_count": 11,
   "metadata": {},
   "outputs": [
    {
     "name": "stdout",
     "output_type": "stream",
     "text": [
      "('g',)\n"
     ]
    }
   ],
   "source": [
    "print(j)"
   ]
  },
  {
   "cell_type": "code",
   "execution_count": 12,
   "metadata": {},
   "outputs": [
    {
     "data": {
      "text/plain": [
       "tuple"
      ]
     },
     "execution_count": 12,
     "metadata": {},
     "output_type": "execute_result"
    }
   ],
   "source": [
    "type(j)"
   ]
  },
  {
   "cell_type": "code",
   "execution_count": 13,
   "metadata": {},
   "outputs": [],
   "source": [
    "t = 12345, 54321, 'hello!'"
   ]
  },
  {
   "cell_type": "code",
   "execution_count": 14,
   "metadata": {},
   "outputs": [],
   "source": [
    "x, y, z = t"
   ]
  },
  {
   "cell_type": "code",
   "execution_count": 15,
   "metadata": {},
   "outputs": [
    {
     "name": "stdout",
     "output_type": "stream",
     "text": [
      "12345 54321 hello!\n"
     ]
    }
   ],
   "source": [
    "print(x,y,z)"
   ]
  },
  {
   "cell_type": "code",
   "execution_count": 16,
   "metadata": {},
   "outputs": [],
   "source": [
    "a = set('abracadabra')\n",
    "b = set('alacazam')"
   ]
  },
  {
   "cell_type": "code",
   "execution_count": 17,
   "metadata": {},
   "outputs": [
    {
     "data": {
      "text/plain": [
       "{'b', 'd', 'r'}"
      ]
     },
     "execution_count": 17,
     "metadata": {},
     "output_type": "execute_result"
    }
   ],
   "source": [
    "a-b"
   ]
  },
  {
   "cell_type": "code",
   "execution_count": 18,
   "metadata": {},
   "outputs": [
    {
     "data": {
      "text/plain": [
       "{'a', 'b', 'c', 'd', 'l', 'm', 'r', 'z'}"
      ]
     },
     "execution_count": 18,
     "metadata": {},
     "output_type": "execute_result"
    }
   ],
   "source": [
    "a | b"
   ]
  },
  {
   "cell_type": "code",
   "execution_count": 19,
   "metadata": {},
   "outputs": [
    {
     "data": {
      "text/plain": [
       "{'a', 'c'}"
      ]
     },
     "execution_count": 19,
     "metadata": {},
     "output_type": "execute_result"
    }
   ],
   "source": [
    "a & b"
   ]
  },
  {
   "cell_type": "code",
   "execution_count": 20,
   "metadata": {},
   "outputs": [
    {
     "data": {
      "text/plain": [
       "{'b', 'd', 'l', 'm', 'r', 'z'}"
      ]
     },
     "execution_count": 20,
     "metadata": {},
     "output_type": "execute_result"
    }
   ],
   "source": [
    "a^b"
   ]
  },
  {
   "cell_type": "code",
   "execution_count": 67,
   "metadata": {},
   "outputs": [
    {
     "name": "stdout",
     "output_type": "stream",
     "text": [
      "{'KFC', 'Shogun', 'Burger King'}\n",
      "{'KFC': 3, 'Shogun': 1, 'Burger King': 4}\n"
     ]
    }
   ],
   "source": [
    "# list1 = [\"Shogun\", \"Tapioca Express\", \"Burger King\", \"KFC\"]\n",
    "# list2 = [\"Piatti\", \"The Grill at Torrey Pines\", \"Hungry Hunter Steakhouse\", \"Shogun\"]\n",
    "\n",
    "list1 = [\"Shogun\",\"Tapioca Express\",\"Burger King\",\"KFC\"]\n",
    "list2 = [\"KFC\",\"Shogun\",\"Burger King\"]\n",
    "\n",
    "a = set(list1)\n",
    "b = set(list2)\n",
    "common = a & b\n",
    "print(common)\n",
    "dic = {x: sum([list1.index(x),list2.index(x)]) for x in common}\n",
    "print(dic)"
   ]
  },
  {
   "cell_type": "code",
   "execution_count": 69,
   "metadata": {},
   "outputs": [
    {
     "data": {
      "text/plain": [
       "['Shogun', 'KFC', 'Burger King']"
      ]
     },
     "execution_count": 69,
     "metadata": {},
     "output_type": "execute_result"
    }
   ],
   "source": [
    "[place[0] for place in sorted(dic.items(),reverse=True)]"
   ]
  },
  {
   "cell_type": "code",
   "execution_count": 16,
   "metadata": {},
   "outputs": [
    {
     "name": "stdout",
     "output_type": "stream",
     "text": [
      "{'Shogun', 'Burger King', 'KFC'}\n",
      "{'Shogun': 1, 'Burger King': 4, 'KFC': 1}\n"
     ]
    }
   ],
   "source": [
    "# list1 = [\"Shogun\", \"Tapioca Express\", \"Burger King\", \"KFC\"]\n",
    "# list2 = [\"Piatti\", \"The Grill at Torrey Pines\", \"Hungry Hunter Steakhouse\", \"Shogun\"]\n",
    "\n",
    "list1 = [\"Shogun\",\"KFC\",\"Burger King\",\"Express\"]\n",
    "list2 = [\"KFC\",\"Shogun\",\"Burger King\"]\n",
    "\n",
    "a = set(list1)\n",
    "b = set(list2)\n",
    "common = a & b\n",
    "print(common)\n",
    "dic = {x: sum([list1.index(x),list2.index(x)]) for x in common}\n",
    "new = [place[0] for place in sorted(dic.items(),reverse=True) if place[1]==min(dic.values())]\n",
    "print(dic)"
   ]
  },
  {
   "cell_type": "code",
   "execution_count": 102,
   "metadata": {},
   "outputs": [
    {
     "name": "stdout",
     "output_type": "stream",
     "text": [
      "['Shogun', 'KFC']\n"
     ]
    }
   ],
   "source": [
    "new = [place[0] for place in sorted(dic.items(),reverse=True) if place[1]==min(dic.values())]\n",
    "print(new)\n"
   ]
  },
  {
   "cell_type": "code",
   "execution_count": 87,
   "metadata": {},
   "outputs": [
    {
     "name": "stdout",
     "output_type": "stream",
     "text": [
      "['Shogun', 'KFC']\n"
     ]
    }
   ],
   "source": [
    "matched = new[0]\n",
    "l = []\n",
    "for a in new:\n",
    "    if matched[1] == a[1]:\n",
    "        l.append(a[0])\n",
    "        \n",
    "print(l)\n",
    "    "
   ]
  },
  {
   "cell_type": "code",
   "execution_count": 94,
   "metadata": {},
   "outputs": [
    {
     "data": {
      "text/plain": [
       "2"
      ]
     },
     "execution_count": 94,
     "metadata": {},
     "output_type": "execute_result"
    }
   ],
   "source": [
    "ge = {'l': 2, \n",
    "      'v': 2}\n",
    "\n",
    "min(ge.values())"
   ]
  }
 ],
 "metadata": {
  "kernelspec": {
   "display_name": "Python 3",
   "language": "python",
   "name": "python3"
  },
  "language_info": {
   "codemirror_mode": {
    "name": "ipython",
    "version": 3
   },
   "file_extension": ".py",
   "mimetype": "text/x-python",
   "name": "python",
   "nbconvert_exporter": "python",
   "pygments_lexer": "ipython3",
   "version": "3.8.5"
  }
 },
 "nbformat": 4,
 "nbformat_minor": 4
}
