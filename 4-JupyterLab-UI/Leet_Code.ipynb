{
 "cells": [
  {
   "cell_type": "code",
   "execution_count": 2,
   "metadata": {},
   "outputs": [
    {
     "name": "stdout",
     "output_type": "stream",
     "text": [
      "{'Shogun': 1, 'Burger King': 4, 'KFC': 1}\n",
      "['Shogun', 'KFC']\n"
     ]
    }
   ],
   "source": [
    "#https://leetcode.com/problems/minimum-index-sum-of-two-lists/\n",
    "# I started out trying to use lists manipulate and return the correct values...\n",
    "# then I saw that the solution accepted answers using hashmaps.\n",
    "# lesson learned: use existing data structures and expand upon using just lists\n",
    "\n",
    "# list1 = [\"Shogun\", \"Tapioca Express\", \"Burger King\", \"KFC\"]\n",
    "# list2 = [\"Piatti\", \"The Grill at Torrey Pines\", \"Hungry Hunter Steakhouse\", \"Shogun\"]\n",
    "\n",
    "list1 = [\"Shogun\",\"KFC\",\"Burger King\",\"Express\"]\n",
    "list2 = [\"KFC\",\"Shogun\",\"Burger King\"]\n",
    "\n",
    "a = set(list1)\n",
    "b = set(list2)\n",
    "common = a & b\n",
    "# print(common)\n",
    "dic = {x: sum([list1.index(x),list2.index(x)]) for x in common}\n",
    "new = [place[0] for place in sorted(dic.items(),reverse=True) if place[1]==min(dic.values())]\n",
    "print(dic)\n",
    "print(new)"
   ]
  },
  {
   "cell_type": "code",
   "execution_count": 1,
   "metadata": {},
   "outputs": [],
   "source": [
    "# best practice?\n",
    "def findRestaurant(self, list1, list2):\n",
    "\n",
    "    commonRes, hashmapRes2 = collections.defaultdict(list), {}           \n",
    "    res, val = [], float('inf')\n",
    "\n",
    "    for index, name in enumerate(list2):\n",
    "        hashmapRes2[name] = index\n",
    "\n",
    "    for index, name in enumerate(list1):\n",
    "        if name in hashmapRes2 and index + hashmapRes2[name] <= val:\n",
    "            val = index + hashmapRes2[name]\n",
    "            commonRes[val].append(name)\n",
    "\n",
    "    return commonRes[val]"
   ]
  },
  {
   "cell_type": "code",
   "execution_count": 42,
   "metadata": {},
   "outputs": [
    {
     "data": {
      "text/plain": [
       "3"
      ]
     },
     "execution_count": 42,
     "metadata": {},
     "output_type": "execute_result"
    }
   ],
   "source": [
    "def findIntegers(num: int) -> int:\n",
    "    return len([j for j in range(num+1) if str(f'{j:08b}').strip('0').find('11')<0])\n",
    "\n",
    "findIntegers(3)"
   ]
  },
  {
   "cell_type": "code",
   "execution_count": 54,
   "metadata": {},
   "outputs": [
    {
     "name": "stdout",
     "output_type": "stream",
     "text": [
      "a a\n",
      "a a\n",
      "a a\n"
     ]
    }
   ],
   "source": [
    "def find_longest_pal(string: str) -> str:\n",
    "    rev = string[::-1]\n",
    "    #tracecars -string\n",
    "    #sracecart -rev\n",
    "    \n",
    "    #banana\n",
    "    #ananab\n",
    "    \n",
    "    #million\n",
    "    #noillim\n",
    "    for i in range(len(string)):\n",
    "        if i == rev[0]:\n",
    "            if is_pal()\n",
    "        \n",
    "    def is_pal(str1, str2):\n",
    "        return True if str1==str2 else False\n",
    "    \n",
    "find_longest_pal('tracecars')"
   ]
  },
  {
   "cell_type": "code",
   "execution_count": 80,
   "metadata": {},
   "outputs": [
    {
     "data": {
      "text/plain": [
       "0"
      ]
     },
     "execution_count": 80,
     "metadata": {},
     "output_type": "execute_result"
    }
   ],
   "source": [
    "def find_nth(x: int) -> int:\n",
    "    if x == 1: return 0\n",
    "    elif x == 2: return 1\n",
    "    elif x == 3: return 1\n",
    "    else:\n",
    "        return find_nth(x-1)+find_nth(x-2)\n",
    "    \n",
    "def print_fib(n: int) -> int:\n",
    "    fib_seq = []\n",
    "    fib_seq.append(find_nth(n))\n",
    "    return fib_seq\n",
    "    \n",
    "find_nth(1)"
   ]
  },
  {
   "cell_type": "code",
   "execution_count": 174,
   "metadata": {},
   "outputs": [
    {
     "data": {
      "text/plain": [
       "'ht'"
      ]
     },
     "execution_count": 174,
     "metadata": {},
     "output_type": "execute_result"
    }
   ],
   "source": [
    "#https://leetcode.com/problems/longest-word-in-dictionary/\n",
    "#720. Longest Word in Dictionary\n",
    "\n",
    "def longestWord(words) -> str:\n",
    "    words = words.sort(reverse=True, key=len)\n",
    "    candidates = ['z']\n",
    "    if not words:\n",
    "        return ''\n",
    "    for i in words:\n",
    "        if len(i) == 1:\n",
    "            candidates.remove('z')\n",
    "            if not candidates:\n",
    "                return i\n",
    "        if len(i) < len(max(candidates,key=len)):\n",
    "            return sorted(candidates)[0]\n",
    "        j = 1\n",
    "        while i[:-j]:\n",
    "            if i[:-j] in words:\n",
    "                j += 1\n",
    "            else:\n",
    "                break\n",
    "            if len(i)==j and len(i)>=len(max(candidates,key=len)):\n",
    "                candidates.append(i)\n",
    "            \n",
    "longestWord(words)"
   ]
  },
  {
   "cell_type": "code",
   "execution_count": 2,
   "metadata": {},
   "outputs": [
    {
     "name": "stdout",
     "output_type": "stream",
     "text": [
      "<class 'list'>\n"
     ]
    }
   ],
   "source": [
    "def myFunc(e):\n",
    "    return e['year']\n",
    "\n",
    "cars = [\n",
    "  {'car': 'Ford', 'year': 2005},\n",
    "  {'car': 'Mitsubishi', 'year': 2000},\n",
    "  {'car': 'BMW', 'year': 2019},\n",
    "  {'car': 'VW', 'year': 2011}\n",
    "]\n",
    "\n",
    "cars.sort(key=myFunc)\n",
    "\n",
    "print(type(cars))"
   ]
  },
  {
   "cell_type": "code",
   "execution_count": 7,
   "metadata": {},
   "outputs": [
    {
     "name": "stdout",
     "output_type": "stream",
     "text": [
      "['banana', 'apply', 'apple', 'appl', 'app', 'ap', 'a']\n",
      "['a', 'ap', 'app', 'appl', 'apply', 'apple', 'banana']\n"
     ]
    }
   ],
   "source": [
    "words = [\"a\", \"banana\", \"app\", \"appl\", \"ap\", \"apply\", \"apple\"]\n",
    "\n",
    "words.sort(reverse=True)\n",
    "print(words)\n",
    "words.sort(key=len)\n",
    "print(words)"
   ]
  },
  {
   "cell_type": "code",
   "execution_count": 67,
   "metadata": {},
   "outputs": [
    {
     "name": "stdout",
     "output_type": "stream",
     "text": [
      "[1, 2, 3, 4, 5]\n",
      "[1, 2, 3]\n",
      "[5, 4, 3]\n",
      "len = 5\n",
      "t = 2\n",
      "\n",
      "\n",
      "[1, 2, 3, 4]\n",
      "[1, 2]\n",
      "[4, 3]\n",
      "len = 4\n",
      "t = 2\n",
      "\n",
      "\n",
      "[5, 13, 14, 10]\n",
      "[5, 13, 14, 10]\n",
      "[14, 13]\n",
      "len = 4\n",
      "t = 2\n",
      "\n",
      "\n",
      "[(0, 5), (1, 13), (2, 14), (3, 10)]\n",
      "[5, 13, 14, 10]\n",
      "[10, 14, 13, 5]\n",
      "len = 4\n",
      "t = 2\n"
     ]
    }
   ],
   "source": [
    "import math as math\n",
    "a = [1,2,3,4,5]\n",
    "t = math.ceil(len(a)/2)\n",
    "print(list((a)))\n",
    "print(a[:t])\n",
    "print(sorted(a,reverse=True)[:t])\n",
    "print('len =',len(a))\n",
    "print('t =',len(a)//2)\n",
    "print('\\n')\n",
    "\n",
    "a = [1,2,3,4]\n",
    "t = len(a)\n",
    "print(list((a)))\n",
    "print(a[:t//2])\n",
    "print(sorted(a,reverse=True)[:t//2])\n",
    "print('len =',len(a))\n",
    "print('t =',len(a)//2)\n",
    "print('\\n')\n",
    "\n",
    "a = [5,13,14,10]\n",
    "t = len(a)\n",
    "print(list((a)))\n",
    "print(a[:t])\n",
    "print(sorted(a,reverse=True)[:-2])\n",
    "print('len =',len(a))\n",
    "print('t =',len(a)//2)\n",
    "print('\\n')\n",
    "\n",
    "a = [5,13,14,10]\n",
    "print(list(enumerate(a)))\n",
    "print(a)\n",
    "print(a[::-1])\n",
    "print('len =',len(a))\n",
    "print('t =',len(a)//2)"
   ]
  },
  {
   "cell_type": "code",
   "execution_count": 103,
   "metadata": {},
   "outputs": [
    {
     "name": "stdout",
     "output_type": "stream",
     "text": [
      "[1, 2, 3, 4, 5, 6, 7] 4\n",
      "list1: [1, 2, 3, 4]\n",
      "list2: [7, 6, 5]\n"
     ]
    }
   ],
   "source": [
    "# https://leetcode.com/problems/monotonic-array/\n",
    "\n",
    "import math as math\n",
    "\n",
    "def isMonotonic(a) -> bool:\n",
    "    t = math.ceil(len(a)/2)\n",
    "    print(a,t)\n",
    "    l1 = a[:t]\n",
    "    l2 = a[:t-1:-1]\n",
    "    i, j = 0, 0\n",
    "#     while i<=t-1 and t%2 == 0:\n",
    "#         if i == t-1:\n",
    "#             pass\n",
    "#         elif (l1[i]<=l2[i] and l1[i]<=l1[i+1] and l2[i]>=l2[i+1]) or (l1[i]>=l2[i] and l1[i]>l2[i]):\n",
    "#             i+=1\n",
    "    print(\"list1: {}\\nlist2: {}\".format(l1,l2))\n",
    "    \n",
    "test = [1,2,3,4,5,6,7]\n",
    "# test = [1,2,3,4,5]\n",
    "isMonotonic(test)"
   ]
  },
  {
   "cell_type": "code",
   "execution_count": 133,
   "metadata": {},
   "outputs": [
    {
     "name": "stdout",
     "output_type": "stream",
     "text": [
      "test result is:  True\n",
      "test1 result is:  True\n",
      "test2 result is:  False\n",
      "test3 result is:  True\n"
     ]
    }
   ],
   "source": [
    "# https://leetcode.com/problems/monotonic-array/\n",
    "\n",
    "def isMonotonic(a) -> bool:\n",
    "    increase = True\n",
    "    length = len(a)\n",
    "    i=0\n",
    "    while i < length:\n",
    "        if i == length-1:\n",
    "            return True\n",
    "        elif a[i]<=a[i+1]:\n",
    "            i+=1\n",
    "        else:\n",
    "            increase = False\n",
    "            i=0\n",
    "            break\n",
    "            \n",
    "    while not increase and i < length:\n",
    "        if i == length-1:\n",
    "            return True\n",
    "        elif a[i]>=a[i+1]:\n",
    "            i+=1\n",
    "        else:\n",
    "            return False\n",
    "\n",
    "\n",
    "#     ------------------       ------------------       ------------------        \n",
    "\n",
    "#     length = len(a)\n",
    "#     increase = True\n",
    "#     decrease = True\n",
    "    \n",
    "#     for i in range(length):\n",
    "#         if not increase and not decrease:\n",
    "#             return False\n",
    "#         if increase and i<length-1:\n",
    "#             if a[i]==a[i+1]:\n",
    "#                 i += 1\n",
    "#             elif a[i] < a[i+1]:\n",
    "#                 decrease = False\n",
    "#                 i += 1\n",
    "#             else:\n",
    "#                 increase = False\n",
    "#         if decrease and i<length-1:\n",
    "#             if a[i]==a[i+1]:\n",
    "#                 i += 1\n",
    "#             elif a[i] > a[i+1]:\n",
    "#                 i += 1\n",
    "#                 increase = False\n",
    "#             else:\n",
    "#                 decrease = False\n",
    "#             i += 1\n",
    "#     return True\n",
    "\n",
    "    \n",
    "test = [1,2,3,4,5,6,7]\n",
    "print('test result is: ',isMonotonic(test)) # expecting True\n",
    "\n",
    "test1 = [5,4,3,2,1]\n",
    "print('test1 result is: ',isMonotonic(test1)) # expecting True\n",
    "\n",
    "test2 = [1,2,2,5,3,4]\n",
    "print('test2 result is: ',isMonotonic(test2)) # expecting False\n",
    "\n",
    "test3 = [1,1,0]\n",
    "print('test3 result is: ',isMonotonic(test3)) # expecting True"
   ]
  },
  {
   "cell_type": "code",
   "execution_count": 124,
   "metadata": {},
   "outputs": [
    {
     "data": {
      "text/plain": [
       "[(0, 1), (1, 2), (2, 3), (3, 4), (4, 5), (5, 6), (6, 7)]"
      ]
     },
     "execution_count": 124,
     "metadata": {},
     "output_type": "execute_result"
    }
   ],
   "source": [
    "list(enumerate([1,2,3,4,5,6,7]))"
   ]
  },
  {
   "cell_type": "code",
   "execution_count": 139,
   "metadata": {},
   "outputs": [
    {
     "name": "stdout",
     "output_type": "stream",
     "text": [
      "False\n",
      "True\n"
     ]
    }
   ],
   "source": [
    "l = []\n",
    "print(bool(l))\n",
    "print(all(l))"
   ]
  },
  {
   "cell_type": "code",
   "execution_count": 147,
   "metadata": {},
   "outputs": [
    {
     "name": "stdout",
     "output_type": "stream",
     "text": [
      "test result is:  True\n",
      "test1 result is:  True\n",
      "test2 result is:  False\n",
      "test3 result is:  True\n"
     ]
    }
   ],
   "source": [
    "def isMonotonicx(A):\n",
    "    increasing = decreasing = True\n",
    "\n",
    "    for i in range(len(A) - 1):\n",
    "        if A[i] > A[i+1]:\n",
    "            increasing = False\n",
    "        if A[i] < A[i+1]:\n",
    "            decreasing = False\n",
    "        if not increasing and not decreasing:\n",
    "            return False\n",
    "\n",
    "    return increasing or decreasing\n",
    "\n",
    "    \n",
    "test = [1,2,3,4,5,6,7]\n",
    "print('test result is: ',isMonotonicx(test)) # expecting True\n",
    "\n",
    "test1 = [5,4,3,2,1]\n",
    "print('test1 result is: ',isMonotonicx(test1)) # expecting True\n",
    "\n",
    "test2 = [1,2,2,5,3,4]\n",
    "print('test2 result is: ',isMonotonicx(test2)) # expecting False\n",
    "\n",
    "test3 = [1,1,0]\n",
    "print('test3 result is: ',isMonotonicx(test3)) # expecting True"
   ]
  },
  {
   "cell_type": "code",
   "execution_count": 150,
   "metadata": {},
   "outputs": [
    {
     "name": "stdout",
     "output_type": "stream",
     "text": [
      "test result is:  True\n",
      "test1 result is:  True\n",
      "test2 result is:  False\n",
      "test3 result is:  True\n"
     ]
    }
   ],
   "source": [
    "def iisMonotonic(A):\n",
    "    return (all(A[i] <= A[i+1] for i in range(len(A) - 1)) or\n",
    "            all(A[i] >= A[i+1] for i in range(len(A) - 1)))\n",
    "\n",
    "test = [1,2,3,4,5,6,7]\n",
    "print('test result is: ',iisMonotonic(test)) # expecting True\n",
    "\n",
    "test1 = [5,4,3,2,1]\n",
    "print('test1 result is: ',iisMonotonic(test1)) # expecting True\n",
    "\n",
    "test2 = [1,2,2,5,3,4]\n",
    "print('test2 result is: ',iisMonotonic(test2)) # expecting False\n",
    "\n",
    "test3 = [1,1,0]\n",
    "print('test3 result is: ',iisMonotonic(test3)) # expecting True"
   ]
  },
  {
   "cell_type": "code",
   "execution_count": 152,
   "metadata": {},
   "outputs": [
    {
     "name": "stdout",
     "output_type": "stream",
     "text": [
      "12 00\n"
     ]
    }
   ],
   "source": [
    "p = '12:00'\n",
    "a,b = p.split(':')\n",
    "print(a,b)"
   ]
  },
  {
   "cell_type": "code",
   "execution_count": 195,
   "metadata": {},
   "outputs": [
    {
     "name": "stdout",
     "output_type": "stream",
     "text": [
      "[0, 7]\n",
      "\n",
      "\n",
      "[4, 6]\n",
      "\n",
      "\n",
      "[1, 1]\n",
      "\n",
      "\n",
      "[10, 19]\n",
      "\n",
      "\n",
      "[1, 4]\n",
      "\n",
      "\n"
     ]
    }
   ],
   "source": [
    "def largestRange(array):\n",
    "    array = sorted(array)\n",
    "    beg = end = array[0]\n",
    "    \n",
    "    if len(array) == 1:\n",
    "        return [beg, end]\n",
    "    \n",
    "    length = len(array)\n",
    "    result = [beg, end]\n",
    "    \n",
    "    for i in range(1, length):\n",
    "        curresult = result[1]-result[0]\n",
    "        test = end - beg\n",
    "        if array[i] == array[i-1]+1:\n",
    "            end = array[i]\n",
    "            continue\n",
    "        elif array[i] == array[i-1]:\n",
    "            end = array[i]\n",
    "            continue\n",
    "        else:\n",
    "            if curresult < end-beg:\n",
    "                result[1] = end\n",
    "                beg = array[i]\n",
    "            elif curresult == end-beg:\n",
    "                result[0] = result[1] = array[i]\n",
    "                beg = end = array[i]\n",
    "\n",
    "            \n",
    "    if result[1]-result[0] < end-beg:\n",
    "        result[0] = beg\n",
    "        result[1] = end\n",
    "    return result\n",
    "            \n",
    "        \n",
    "    \n",
    "arr = [1, 11, 3, 0, 15, 5, 2, 4, 10, 7, 12, 6]\n",
    "print(largestRange(arr)) # expected: [0, 7]\n",
    "print('\\n')\n",
    "\n",
    "arr = [1,2,4,5,6]\n",
    "print(largestRange(arr)) # expected: [4, 6]\n",
    "print('\\n')\n",
    "\n",
    "arr = [1]\n",
    "print(largestRange(arr)) # expected: [1,1]\n",
    "print('\\n')\n",
    "\n",
    "arr = [19, -1, 18, 17, 2, 10, 3, 12, 5, 16, 4, 11, 8, 7, 6, 15, 12, 12, 2, 1, 6, 13, 14]\n",
    "print(largestRange(arr)) # expected: [10, 19]\n",
    "print('\\n')\n",
    "\n",
    "arr = [4, 2, 1, 3, 6]\n",
    "print(largestRange(arr)) # expected: [1, 4]\n",
    "print('\\n')"
   ]
  },
  {
   "cell_type": "code",
   "execution_count": 200,
   "metadata": {},
   "outputs": [
    {
     "name": "stdout",
     "output_type": "stream",
     "text": [
      "{1: True, 11: True, 3: True, 0: True, 15: True, 5: True, 2: True, 4: True, 10: True, 7: True, 12: True, 6: True}\n"
     ]
    }
   ],
   "source": [
    "arr = [1, 11, 3, 0, 15, 5, 2, 4, 10, 7, 12, 6]\n",
    "arr1 = list(enumerate(arr))\n",
    "testx = dict.fromkeys(arr,True)\n",
    "print(testx)"
   ]
  },
  {
   "cell_type": "code",
   "execution_count": 201,
   "metadata": {},
   "outputs": [],
   "source": [
    "if not testx[1]:\n",
    "    print(4)"
   ]
  },
  {
   "cell_type": "code",
   "execution_count": 203,
   "metadata": {},
   "outputs": [
    {
     "data": {
      "text/plain": [
       "False"
      ]
     },
     "execution_count": 203,
     "metadata": {},
     "output_type": "execute_result"
    }
   ],
   "source": [
    "bool(not True)"
   ]
  },
  {
   "cell_type": "code",
   "execution_count": 205,
   "metadata": {},
   "outputs": [
    {
     "name": "stdout",
     "output_type": "stream",
     "text": [
      "<class 'list'>\n",
      "1_racecar_2\n"
     ]
    }
   ],
   "source": [
    "def reverse(x):\n",
    "    length = len(x)\n",
    "    output_arr = [None]*length\n",
    "    index = length - 1\n",
    "    for c in x:\n",
    "        output_arr[index] = c\n",
    "        index -= 1\n",
    "    print(type(output_arr))\n",
    "    return ''.join(output_arr)\n",
    "\n",
    "print(reverse(\"2_racecar_1\"))"
   ]
  },
  {
   "cell_type": "markdown",
   "metadata": {},
   "source": [
    "### 1382. Balance a Binary Search Tree\n",
    "https://leetcode.com/problems/balance-a-binary-search-tree/submissions/"
   ]
  },
  {
   "cell_type": "code",
   "execution_count": 1,
   "metadata": {},
   "outputs": [
    {
     "ename": "NameError",
     "evalue": "name 'TreeNode' is not defined",
     "output_type": "error",
     "traceback": [
      "\u001b[0;31m---------------------------------------------------------------------------\u001b[0m",
      "\u001b[0;31mNameError\u001b[0m                                 Traceback (most recent call last)",
      "\u001b[0;32m<ipython-input-1-28af82f349e5>\u001b[0m in \u001b[0;36m<module>\u001b[0;34m\u001b[0m\n\u001b[1;32m      6\u001b[0m \u001b[0;31m#         self.right = right\u001b[0m\u001b[0;34m\u001b[0m\u001b[0;34m\u001b[0m\u001b[0;34m\u001b[0m\u001b[0m\n\u001b[1;32m      7\u001b[0m \u001b[0;34m\u001b[0m\u001b[0m\n\u001b[0;32m----> 8\u001b[0;31m \u001b[0;32mclass\u001b[0m \u001b[0mSolution\u001b[0m\u001b[0;34m:\u001b[0m\u001b[0;34m\u001b[0m\u001b[0;34m\u001b[0m\u001b[0m\n\u001b[0m\u001b[1;32m      9\u001b[0m     \u001b[0;32mdef\u001b[0m \u001b[0mbalanceBST\u001b[0m\u001b[0;34m(\u001b[0m\u001b[0mself\u001b[0m\u001b[0;34m,\u001b[0m \u001b[0mroot\u001b[0m\u001b[0;34m:\u001b[0m \u001b[0mTreeNode\u001b[0m\u001b[0;34m)\u001b[0m \u001b[0;34m->\u001b[0m \u001b[0mTreeNode\u001b[0m\u001b[0;34m:\u001b[0m\u001b[0;34m\u001b[0m\u001b[0;34m\u001b[0m\u001b[0m\n\u001b[1;32m     10\u001b[0m         \u001b[0mholder_list\u001b[0m \u001b[0;34m=\u001b[0m \u001b[0;34m[\u001b[0m\u001b[0;34m]\u001b[0m\u001b[0;34m\u001b[0m\u001b[0;34m\u001b[0m\u001b[0m\n",
      "\u001b[0;32m<ipython-input-1-28af82f349e5>\u001b[0m in \u001b[0;36mSolution\u001b[0;34m()\u001b[0m\n\u001b[1;32m      7\u001b[0m \u001b[0;34m\u001b[0m\u001b[0m\n\u001b[1;32m      8\u001b[0m \u001b[0;32mclass\u001b[0m \u001b[0mSolution\u001b[0m\u001b[0;34m:\u001b[0m\u001b[0;34m\u001b[0m\u001b[0;34m\u001b[0m\u001b[0m\n\u001b[0;32m----> 9\u001b[0;31m     \u001b[0;32mdef\u001b[0m \u001b[0mbalanceBST\u001b[0m\u001b[0;34m(\u001b[0m\u001b[0mself\u001b[0m\u001b[0;34m,\u001b[0m \u001b[0mroot\u001b[0m\u001b[0;34m:\u001b[0m \u001b[0mTreeNode\u001b[0m\u001b[0;34m)\u001b[0m \u001b[0;34m->\u001b[0m \u001b[0mTreeNode\u001b[0m\u001b[0;34m:\u001b[0m\u001b[0;34m\u001b[0m\u001b[0;34m\u001b[0m\u001b[0m\n\u001b[0m\u001b[1;32m     10\u001b[0m         \u001b[0mholder_list\u001b[0m \u001b[0;34m=\u001b[0m \u001b[0;34m[\u001b[0m\u001b[0;34m]\u001b[0m\u001b[0;34m\u001b[0m\u001b[0;34m\u001b[0m\u001b[0m\n\u001b[1;32m     11\u001b[0m \u001b[0;34m\u001b[0m\u001b[0m\n",
      "\u001b[0;31mNameError\u001b[0m: name 'TreeNode' is not defined"
     ]
    }
   ],
   "source": [
    "# # Definition for a binary tree node.\n",
    "# class TreeNode:\n",
    "#     def __init__(self, val=0, left=None, right=None):\n",
    "#         self.val = val\n",
    "#         self.left = left\n",
    "#         self.right = right\n",
    "\n",
    "class Solution:\n",
    "    def balanceBST(self, root: TreeNode) -> TreeNode:\n",
    "        holder_list = []\n",
    "        \n",
    "        # this is a function inside the function balanceBST\n",
    "        # this is not a class function but just a helper function\n",
    "        # it has one param which is the root, recursively called to traverse it\n",
    "        # it outputs an array which it takes from the outter function, accessing\n",
    "        # and manipulating it to give the desdired output based on the input root\n",
    "        def in_order_list(root):\n",
    "            if root:\n",
    "                in_order_list(root.left)\n",
    "                holder_list.append(root.val)\n",
    "                in_order_list(root.right)\n",
    "            return holder_list # this changes the list\n",
    "        \n",
    "        # this is an in function call, which does not require self, meaning it is\n",
    "        # not a class method, it is merely a inner function method used to help the\n",
    "        # main function output/return stuff. Here it is called on the root, which\n",
    "        # is then evaluated the way the instructions are given in its function\n",
    "        in_order_list(root)\n",
    "        \n",
    "        # this is another function within the parent function, another helper\n",
    "        # function if you will. Its job is to take the list another helper method\n",
    "        # just manipulated and is going to use it to generate a tree, or individual\n",
    "        # nodes using the class TreeNode by creating new TreeNode objects tying them\n",
    "        # to each other in line 41. It is recurisvely called, after initializing \n",
    "        # the root node, it will initialize its left and right child nodes.\n",
    "        def BST_maker_helper(holder_list):\n",
    "            if not holder_list:\n",
    "                return\n",
    "            mid = len(holder_list) // 2\n",
    "            root = TreeNode(holder_list[mid])\n",
    "            root.left = BST_maker_helper(holder_list[:mid])\n",
    "            root.right = BST_maker_helper(holder_list[mid + 1:])\n",
    "            return root\n",
    "\n",
    "        # here the above method is called by the method balanceBST, which is a\n",
    "        # class function. It actually calls the method BST_maker_helper on the\n",
    "        # the list in_order_list method manipulated using the original root passed\n",
    "        # down by the calling of balanceBST method.\n",
    "        return BST_maker_helper(holder_list)\n",
    "    \n",
    "    \n",
    "    # balanceBST(root) -> in_order_list(root) -> #list# -> BST_maker_helper(list)"
   ]
  },
  {
   "cell_type": "markdown",
   "metadata": {},
   "source": [
    "### 100. Same Tree\n",
    "https://leetcode.com/problems/same-tree/"
   ]
  },
  {
   "cell_type": "code",
   "execution_count": 2,
   "metadata": {},
   "outputs": [
    {
     "ename": "NameError",
     "evalue": "name 'TreeNode' is not defined",
     "output_type": "error",
     "traceback": [
      "\u001b[0;31m---------------------------------------------------------------------------\u001b[0m",
      "\u001b[0;31mNameError\u001b[0m                                 Traceback (most recent call last)",
      "\u001b[0;32m<ipython-input-2-680d47241c31>\u001b[0m in \u001b[0;36m<module>\u001b[0;34m\u001b[0m\n\u001b[1;32m      6\u001b[0m \u001b[0;31m#         self.right = right\u001b[0m\u001b[0;34m\u001b[0m\u001b[0;34m\u001b[0m\u001b[0;34m\u001b[0m\u001b[0m\n\u001b[1;32m      7\u001b[0m \u001b[0;34m\u001b[0m\u001b[0m\n\u001b[0;32m----> 8\u001b[0;31m \u001b[0;32mclass\u001b[0m \u001b[0mSolution\u001b[0m\u001b[0;34m:\u001b[0m\u001b[0;34m\u001b[0m\u001b[0;34m\u001b[0m\u001b[0m\n\u001b[0m\u001b[1;32m      9\u001b[0m     \u001b[0;32mdef\u001b[0m \u001b[0misSameTree\u001b[0m\u001b[0;34m(\u001b[0m\u001b[0mself\u001b[0m\u001b[0;34m,\u001b[0m \u001b[0mp\u001b[0m\u001b[0;34m:\u001b[0m \u001b[0mTreeNode\u001b[0m\u001b[0;34m,\u001b[0m \u001b[0mq\u001b[0m\u001b[0;34m:\u001b[0m \u001b[0mTreeNode\u001b[0m\u001b[0;34m)\u001b[0m \u001b[0;34m->\u001b[0m \u001b[0mbool\u001b[0m\u001b[0;34m:\u001b[0m\u001b[0;34m\u001b[0m\u001b[0;34m\u001b[0m\u001b[0m\n\u001b[1;32m     10\u001b[0m \u001b[0;34m\u001b[0m\u001b[0m\n",
      "\u001b[0;32m<ipython-input-2-680d47241c31>\u001b[0m in \u001b[0;36mSolution\u001b[0;34m()\u001b[0m\n\u001b[1;32m      7\u001b[0m \u001b[0;34m\u001b[0m\u001b[0m\n\u001b[1;32m      8\u001b[0m \u001b[0;32mclass\u001b[0m \u001b[0mSolution\u001b[0m\u001b[0;34m:\u001b[0m\u001b[0;34m\u001b[0m\u001b[0;34m\u001b[0m\u001b[0m\n\u001b[0;32m----> 9\u001b[0;31m     \u001b[0;32mdef\u001b[0m \u001b[0misSameTree\u001b[0m\u001b[0;34m(\u001b[0m\u001b[0mself\u001b[0m\u001b[0;34m,\u001b[0m \u001b[0mp\u001b[0m\u001b[0;34m:\u001b[0m \u001b[0mTreeNode\u001b[0m\u001b[0;34m,\u001b[0m \u001b[0mq\u001b[0m\u001b[0;34m:\u001b[0m \u001b[0mTreeNode\u001b[0m\u001b[0;34m)\u001b[0m \u001b[0;34m->\u001b[0m \u001b[0mbool\u001b[0m\u001b[0;34m:\u001b[0m\u001b[0;34m\u001b[0m\u001b[0;34m\u001b[0m\u001b[0m\n\u001b[0m\u001b[1;32m     10\u001b[0m \u001b[0;34m\u001b[0m\u001b[0m\n\u001b[1;32m     11\u001b[0m         \u001b[0mtree1_list\u001b[0m \u001b[0;34m=\u001b[0m \u001b[0;34m[\u001b[0m\u001b[0;34m]\u001b[0m\u001b[0;34m\u001b[0m\u001b[0;34m\u001b[0m\u001b[0m\n",
      "\u001b[0;31mNameError\u001b[0m: name 'TreeNode' is not defined"
     ]
    }
   ],
   "source": [
    "# # # Definition for a binary tree node.\n",
    "# class TreeNode:\n",
    "#     def __init__(self, val=0, left=None, right=None):\n",
    "#         self.val = val\n",
    "#         self.left = left\n",
    "#         self.right = right\n",
    "        \n",
    "class Solution:\n",
    "    def isSameTree(self, p: TreeNode, q: TreeNode) -> bool:\n",
    "        \n",
    "        tree1_list = []\n",
    "        tree2_list = []\n",
    "        \n",
    "        def preOrderTraverse(node, array):\n",
    "            if node:\n",
    "                array.append(node.val)\n",
    "                if node.left:\n",
    "                    preOrderTraverse(node.left, array)\n",
    "                else:\n",
    "                    array.append(None)\n",
    "                if node.right:\n",
    "                    preOrderTraverse(node.right, array)\n",
    "                else:\n",
    "                    array.append(None)\n",
    "            return array\n",
    "        \n",
    "        preOrderTraverse(p, tree1_list)\n",
    "        preOrderTraverse(q, tree2_list)\n",
    "        print(tree1_list)\n",
    "        print(tree2_list)\n",
    "        \n",
    "        if tree1_list == tree2_list:\n",
    "            return True\n",
    "        else:\n",
    "            return False"
   ]
  },
  {
   "cell_type": "markdown",
   "metadata": {},
   "source": [
    "### 11. Container With Most Water\n",
    "https://leetcode.com/problems/container-with-most-water/"
   ]
  },
  {
   "cell_type": "code",
   "execution_count": null,
   "metadata": {},
   "outputs": [],
   "source": [
    "class Solution:\n",
    "    def maxArea(self, height: List[int]) -> int:\n",
    "        currentMax = float('-inf')\n",
    "        length = len(height)\n",
    "        for i in range(length):\n",
    "            for j in range(i, length):\n",
    "                currentMax = self.getWaterLevel(currentMax, height, i, j)\n",
    "        return currentMax\n",
    "    \n",
    "    def getWaterLevel(self, currentMax, height, leftIdx, rightIdx):\n",
    "        lengthOfTest = min(height[leftIdx], height[rightIdx])\n",
    "        widthOfTest = rightIdx - leftIdx\n",
    "        testContainerVol = lengthOfTest*widthOfTest\n",
    "        return max(currentMax, testContainerVol)"
   ]
  }
 ],
 "metadata": {
  "kernelspec": {
   "display_name": "Python 3",
   "language": "python",
   "name": "python3"
  },
  "language_info": {
   "codemirror_mode": {
    "name": "ipython",
    "version": 3
   },
   "file_extension": ".py",
   "mimetype": "text/x-python",
   "name": "python",
   "nbconvert_exporter": "python",
   "pygments_lexer": "ipython3",
   "version": "3.8.5"
  }
 },
 "nbformat": 4,
 "nbformat_minor": 4
}
