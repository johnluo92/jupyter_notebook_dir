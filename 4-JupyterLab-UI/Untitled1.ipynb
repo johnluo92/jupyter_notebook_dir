{
 "cells": [
  {
   "cell_type": "markdown",
   "metadata": {},
   "source": [
    "## What are the most important trade-offs of software architecture?\n",
    "\n",
    "#### 1.) Flexibility vs. Simplicity. Some systems need to have a lot of flexibility and expandability built into them because you know you’re starting with the kernel of an idea and it’s going to get bigger. Others simply require a straightforward implementation with repeated reminders of YAGNI (You Ain’t Gonna Need It).\n",
    "\n",
    "#### 2.) Space vs. Time. If time is of the essence then you’ll want to start pulling tricks like pre-computing possible values similar to what OLAP cubes do. Ever wonder how you can report on billions of rows across a range of dimensions so quickly? The aggregations are precomputed so that by the time you ask, the data is ready for you (or very close). On the other hand, you may need to minimize space and can afford some time which means you’ll be looking at compression and normalization to minimize redundant storage.\n",
    "\n",
    "#### 3.) Latency vs. Throughput. Holy moly I wish I had a dollar for every time someone treated these two as equivalent when evaluating performance requirements. Which do you need to optimize, the time for the first result or the number of results you can process in a given period of time? Think of this in terms of moving people a quarter mile, do you need a bus to move a lot of people or a motorcycle to get the first person there in the shortest amount of time?"
   ]
  },
  {
   "cell_type": "code",
   "execution_count": null,
   "metadata": {},
   "outputs": [],
   "source": []
  }
 ],
 "metadata": {
  "kernelspec": {
   "display_name": "Python 3",
   "language": "python",
   "name": "python3"
  },
  "language_info": {
   "codemirror_mode": {
    "name": "ipython",
    "version": 3
   },
   "file_extension": ".py",
   "mimetype": "text/x-python",
   "name": "python",
   "nbconvert_exporter": "python",
   "pygments_lexer": "ipython3",
   "version": "3.8.5"
  }
 },
 "nbformat": 4,
 "nbformat_minor": 4
}
