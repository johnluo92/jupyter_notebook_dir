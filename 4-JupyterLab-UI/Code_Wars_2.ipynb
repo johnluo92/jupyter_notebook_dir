{
 "cells": [
  {
   "cell_type": "code",
   "execution_count": null,
   "metadata": {},
   "outputs": [],
   "source": [
    "def solution(string,markers):\n",
    "    for i in markers:\n",
    "        string = re.sub(' ?\\\\'+i+'.*', '', string)\n",
    "    return string\n",
    "        \n",
    "j = solution('watermelons avocados apples #\\nlemons ^ pears apples apples\\n#', ['-', '@', ',', '.', \"'\", '#', '!', '^'])\n",
    "# j = solution(\"a #b\\nc\\nd $e f g\", [\"#\", \"$\"])\n",
    "j"
   ]
  },
  {
   "cell_type": "code",
   "execution_count": 1,
   "metadata": {},
   "outputs": [
    {
     "name": "stdout",
     "output_type": "stream",
     "text": [
      "True\n"
     ]
    }
   ],
   "source": [
    "'''You need to write regex that will validate a password to make sure it meets the following criteria:\n",
    "\n",
    "- At least six characters long\n",
    "- contains a lowercase letter\n",
    "- contains an uppercase letter\n",
    "- contains a number\n",
    "- Valid passwords will only be alphanumeric characters.'''\n",
    "\n",
    "'fjd3IR9'\n",
    "\n",
    "import re\n",
    "# pw = 'fjd3IR9'\n",
    "pw = '1232xA'\n",
    "test cases:\n",
    "    'fjd3IR9'\n",
    "\n",
    "# regex = '\\w{6,}[A-Z]+[a-z]+|\\d+|\\W{0,}'\n",
    "regex = (\n",
    "    '^(?=.*[a-z])' # contains a lowercase letter\n",
    "    '(?=.*[A-Z])'  # contains an uppercase letter\n",
    "    '(?=.*\\d)'     # contains a number\n",
    "    '[A-Za-z\\d]'   # Valid passwords will only be alphanumeric characters.\n",
    "    '{6,}$'        # At least six characters long\n",
    ")\n",
    "\n",
    "j = re.search(regex, pw)\n",
    "\n",
    "print(bool(j))"
   ]
  },
  {
   "cell_type": "code",
   "execution_count": 191,
   "metadata": {},
   "outputs": [
    {
     "name": "stdout",
     "output_type": "stream",
     "text": [
      "2\n",
      "3\n",
      "5\n",
      "7\n",
      "11\n",
      "13\n"
     ]
    }
   ],
   "source": [
    "num = 15\n",
    "\n",
    "for num in range(2, num + 1):\n",
    "    for i in range(2, num):\n",
    "        if (num % i) == 0:\n",
    "            break\n",
    "    else:\n",
    "        print(num)"
   ]
  },
  {
   "cell_type": "code",
   "execution_count": 6,
   "metadata": {},
   "outputs": [
    {
     "name": "stdout",
     "output_type": "stream",
     "text": [
      "2\n",
      "prime 2\n",
      "3\n",
      "prime 3\n",
      "prime 6\n"
     ]
    }
   ],
   "source": [
    "def trysome(num):\n",
    "    \n",
    "    for i in range(2, num+1):\n",
    "        if (num % i) == 0 and num != i:\n",
    "            print(i)\n",
    "            trysome(i)\n",
    "    else:\n",
    "        print('prime', num)\n",
    "            \n",
    "            \n",
    "trysome(6)"
   ]
  },
  {
   "cell_type": "code",
   "execution_count": 40,
   "metadata": {},
   "outputs": [
    {
     "name": "stdout",
     "output_type": "stream",
     "text": [
      "prime factors [2, 2, 2, 11]\n",
      "unique set [2, 11]\n",
      "(2**3)(11)\n"
     ]
    }
   ],
   "source": [
    "# Python program to print prime factors\n",
    "import math\n",
    "# prime\n",
    "def primeFactors(n):\n",
    "    arr = []\n",
    "   # no of even divisibility\n",
    "    while n % 2 == 0:\n",
    "        arr.append(2)\n",
    "        n = n / 2\n",
    "   # n reduces to become odd\n",
    "    for i in range(3,int(math.sqrt(n))+1,2):\n",
    "      # while i divides n\n",
    "        while n % i== 0:\n",
    "            arr.append(int(i))\n",
    "            n = n / i\n",
    "   # if n is a prime\n",
    "    if n > 2:\n",
    "        arr.append(int(n))\n",
    "    output = ''\n",
    "    unique = set(arr)\n",
    "    print('prime factors', arr)\n",
    "    print('unique set', sorted(unique))\n",
    "    for i in sorted(unique):\n",
    "        if arr.count(i) > 1:\n",
    "            output += '('+str(i)+'**'+str(arr.count(i))+')'\n",
    "        else:\n",
    "            output += '('+str(i)+')'\n",
    "            \n",
    "    return output\n",
    "        \n",
    "    \n",
    "n = 88\n",
    "j = primeFactors(n)\n",
    "print(j)"
   ]
  },
  {
   "cell_type": "code",
   "execution_count": 132,
   "metadata": {},
   "outputs": [
    {
     "name": "stdout",
     "output_type": "stream",
     "text": [
      "-6 0\n",
      "-3 1\n",
      "-2 2\n",
      "-1 3\n",
      "0 4\n",
      "1 5\n",
      "3 6\n",
      "4 7\n",
      "5 8\n",
      "7 9\n",
      "8 10\n",
      "9 11\n",
      "10 12\n",
      "11 13\n",
      "14 14\n",
      "15 15\n",
      "17 16\n",
      "18 17\n",
      "19 18\n",
      "20 19\n",
      "-9 20\n",
      "-8 21\n"
     ]
    },
    {
     "data": {
      "text/plain": [
       "'-6,-3-1,3-5,7-11,14,15,17-20,-9,-8'"
      ]
     },
     "execution_count": 132,
     "metadata": {},
     "output_type": "execute_result"
    }
   ],
   "source": [
    "def solution(args):\n",
    "    # your code here\n",
    "    result = ''\n",
    "    i = 0\n",
    "    count = 0\n",
    "    \n",
    "    while i < len(args):\n",
    "        print(args[i], i)\n",
    "        if i != len(args)-1:\n",
    "            a, b = args[i]+1, args[i+1]\n",
    "            if a == b:\n",
    "                count += 1\n",
    "            elif a != b and count == 1:\n",
    "                result += ','+str(args[i-count])+','+str(args[i])\n",
    "                count = 0\n",
    "            elif a != b and count == 0:\n",
    "                result += ','+str(args[i])\n",
    "            elif a != b and count > 1:\n",
    "                result += ','+str(args[i-count])+'-'+str(args[i])\n",
    "                count = 0\n",
    "        else:\n",
    "            if count > 1:\n",
    "                print(count)\n",
    "                result += ','+str(args[i-count])+'-'+str(args[i])\n",
    "            elif count == 0:\n",
    "                result += ','+str(args[i-count])\n",
    "            elif count == 1:\n",
    "                result += ','+str(args[i-count])+','+str(args[i])\n",
    "        i += 1\n",
    "    return result.replace(',','',1)\n",
    "    \n",
    "# solution([1,2,3,5,6,7,9])\n",
    "    \n",
    "# solution([-3,-2,-1,2,10,15,16,18,19,20]) #Expected: '-3--1,2,10,15,16,18-20'\n",
    "solution([-6,-3,-2,-1,0,1,3,4,5,7,8,9,10,11,14,15,17,18,19,20,-9,-8]) # Expected: '-6,-3-1,3-5,7-11,14,15,17-20'"
   ]
  },
  {
   "cell_type": "code",
   "execution_count": 162,
   "metadata": {},
   "outputs": [
    {
     "name": "stdout",
     "output_type": "stream",
     "text": [
      "35\n",
      "13\n",
      "5\n",
      "3\n"
     ]
    }
   ],
   "source": [
    "def zero(*x):\n",
    "    if x == (): return str(0)\n",
    "    else: return eval(str(0)+x[0])\n",
    "def one(*x): \n",
    "    if x == (): return str(1)\n",
    "    else: return eval(str(1)+x[0])\n",
    "def two(*x): \n",
    "    if x == (): return str(2)\n",
    "    else: return eval(str(2)+x[0])\n",
    "def three(*x): \n",
    "    if x == (): return str(3)\n",
    "    else: return eval(str(3)+x[0])\n",
    "def four(*x): \n",
    "    if x == (): return str(4)\n",
    "    else: return eval(str(4)+x[0])\n",
    "def five(*x):\n",
    "    if x == (): return str(5)\n",
    "    else: return eval(str(5)+x[0])\n",
    "def six(*x): \n",
    "    if x == (): return str(6)\n",
    "    else: return eval(str(6)+x[0])\n",
    "def seven(*x):\n",
    "    if x == (): return str(7)\n",
    "    else: return eval(str(7)+x[0])\n",
    "def eight(*x): \n",
    "    if x == (): return str(8)\n",
    "    else: return eval(str(8)+x[0])\n",
    "def nine(*x): \n",
    "    if x == (): return str(9)\n",
    "    else: return eval(str(9)+x[0])\n",
    "    \n",
    "def plus(x):\n",
    "    return ('+'+str(x))\n",
    "def minus(x): \n",
    "    return ('-'+str(x))\n",
    "def times(x):\n",
    "    return ('*'+str(x))\n",
    "def divided_by(x): \n",
    "    return ('//'+str(x))\n",
    "\n",
    "print(seven(times(five())))\n",
    "print(four(plus(nine())))\n",
    "print(eight(minus(three())))\n",
    "print(six(divided_by(two())))"
   ]
  },
  {
   "cell_type": "code",
   "execution_count": 11,
   "metadata": {},
   "outputs": [
    {
     "name": "stdout",
     "output_type": "stream",
     "text": [
      "hi <function plus.<locals>.<lambda> at 0x1120ea940>\n",
      "2\n"
     ]
    }
   ],
   "source": [
    "#a better way to do the above exercise\n",
    "# by using lambda and optionally empty parameter function\n",
    "\n",
    "def zero(f = None): return 0 if not f else f(0)\n",
    "def one(f = None): return 1 if not f else f(1)\n",
    "def two(f = None): return 2 if not f else f(2)\n",
    "def three(f = None): return 3 if not f else f(3)\n",
    "def four(f = None): return 4 if not f else f(4)\n",
    "def five(f = None): return 5 if not f else f(5)\n",
    "def six(f = None): return 6 if not f else f(6)\n",
    "def seven(f = None): return 7 if not f else f(7)\n",
    "def eight(f = None): return 8 if not f else f(8)\n",
    "def nine(f = None): return 9 if not f else f(9)\n",
    "\n",
    "def plus(y): return lambda x: x+y\n",
    "def minus(y): return lambda x: x-y\n",
    "def times(y): return lambda  x: x*y\n",
    "def divided_by(y): return lambda  x: x/y\n",
    "\n",
    "s = plus(one())\n",
    "print(s)\n",
    "print(one(s))"
   ]
  },
  {
   "cell_type": "code",
   "execution_count": 5,
   "metadata": {},
   "outputs": [
    {
     "data": {
      "text/plain": [
       "9"
      ]
     },
     "execution_count": 5,
     "metadata": {},
     "output_type": "execute_result"
    }
   ],
   "source": [
    "def test(f = ''):\n",
    "    return 1 if not f else f(1)\n",
    "\n",
    "def add(y): return lambda x: x+y\n",
    "test(add(8))"
   ]
  },
  {
   "cell_type": "code",
   "execution_count": null,
   "metadata": {},
   "outputs": [],
   "source": []
  }
 ],
 "metadata": {
  "kernelspec": {
   "display_name": "Python 3",
   "language": "python",
   "name": "python3"
  },
  "language_info": {
   "codemirror_mode": {
    "name": "ipython",
    "version": 3
   },
   "file_extension": ".py",
   "mimetype": "text/x-python",
   "name": "python",
   "nbconvert_exporter": "python",
   "pygments_lexer": "ipython3",
   "version": "3.8.5"
  }
 },
 "nbformat": 4,
 "nbformat_minor": 4
}
