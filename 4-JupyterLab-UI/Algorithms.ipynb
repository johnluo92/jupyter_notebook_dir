{
 "cells": [
  {
   "cell_type": "code",
   "execution_count": 56,
   "metadata": {},
   "outputs": [
    {
     "name": "stdout",
     "output_type": "stream",
     "text": [
      "1 2 3 4\n",
      "4 3 2 1 \n",
      "4 3 2 1\n"
     ]
    }
   ],
   "source": [
    "#!/bin/python3\n",
    "\n",
    "import math\n",
    "import os\n",
    "import random\n",
    "import re\n",
    "import sys\n",
    "\n",
    "# Complete the reverseArray function below.\n",
    "def reverseArray(a):\n",
    "    \n",
    "    b = a[::-1]\n",
    "    s = ''\n",
    "    loop = len(b)\n",
    "    for i in range(loop):\n",
    "        s += str(b[i]) + ' '\n",
    "    print(s)\n",
    "    print(s.rstrip())\n",
    "        \n",
    "if __name__ == '__main__':\n",
    "\n",
    "    ##arr_count = int(input())\n",
    "\n",
    "    arr = list(map(int, input().rstrip().split()))\n",
    "\n",
    "    res = reverseArray(arr)"
   ]
  },
  {
   "cell_type": "code",
   "execution_count": 57,
   "metadata": {},
   "outputs": [
    {
     "name": "stdout",
     "output_type": "stream",
     "text": [
      "<class 'numpy.ndarray'>\n"
     ]
    }
   ],
   "source": [
    "import numpy as np\n",
    "\n",
    "h = np.array([1, 2, 3])   # Create a rank 1 array\n",
    "print(type(h)) "
   ]
  },
  {
   "cell_type": "code",
   "execution_count": 89,
   "metadata": {},
   "outputs": [
    {
     "name": "stdout",
     "output_type": "stream",
     "text": [
      "unique set {1, 2, 3, 4, 5}\n",
      "3 occurred odd number of times\n",
      "5 occurred odd number of times\n"
     ]
    }
   ],
   "source": [
    "#https://www.codewars.com/kata/54da5a58ea159efa38000836/solutions/python\n",
    "words = [1, 2, 2, 3, 4, 4, 5, 1]\n",
    "\n",
    "c = set(words)\n",
    "print('unique set',c)\n",
    "\n",
    "for i in c:\n",
    "    occur = words.count(i)\n",
    "    if occur % 2 != 0:\n",
    "        print(i, 'occurred odd number of times')"
   ]
  },
  {
   "cell_type": "code",
   "execution_count": 200,
   "metadata": {},
   "outputs": [
    {
     "name": "stdout",
     "output_type": "stream",
     "text": [
      "2 2 0 3 3 2 \n",
      "0 2 2 1 2 1 \n",
      "1 1 2 2 1 2 \n",
      "2 0 1 3 3 3 \n",
      "0 2 2 0 3 2 \n",
      "0 1 0 2 3 1 \n",
      "\n"
     ]
    }
   ],
   "source": [
    "import numpy as np\n",
    "\n",
    "randomMX = np.random.randint(0, 4, size=(6,6))\n",
    "for p in range(len(randomMX)):\n",
    "    for o in range(len(randomMX[p])):\n",
    "        print(randomMX[p][o], end=' ')\n",
    "    print()\n",
    "    \n",
    "my_list = list()\n",
    "\n",
    "print()\n",
    "\n",
    "a = 0\n",
    "\n",
    "# for i in range(4):\n",
    "#     for j in range(3):\n",
    "#         print(randomMX[i][j], end=' ')\n",
    "#         a += randomMX[i][j]\n",
    "#     print('\\n ', randomMX[i+1][j-1])\n",
    "#     a += randomMX[i+1][j-1]\n",
    "#     for n in range(3):\n",
    "#         print(randomMX[i+2][n], end=' ')\n",
    "#         a += randomMX[i+2][n]\n",
    "#     print('\\nsum =', a, '\\n')\n",
    "#     my_list.append(a)\n",
    "#     a=0\n",
    "\n",
    "# for i in range(4):\n",
    "#     for j in range(3):\n",
    "#         print(randomMX[i][j+1], end=' ')\n",
    "#         a += randomMX[i][j+1]\n",
    "#     print('\\n ', randomMX[i+1][j])\n",
    "#     a += randomMX[i+1][j]\n",
    "#     for n in range(3):\n",
    "#         print(randomMX[i+2][n+1], end=' ')\n",
    "#         a += randomMX[i+2][n+1]\n",
    "#     print('\\nsum =', a, '\\n')\n",
    "#     my_list.append(a)\n",
    "#     a=0\n",
    "\n",
    "# for i in range(4):\n",
    "#     for j in range(3):\n",
    "#         print(randomMX[i][j+2], end=' ')   #increase j\n",
    "#         a += randomMX[i][j+2]\n",
    "#     print('\\n ', randomMX[i+1][j+1])   #don't increase i, increase j\n",
    "#     a += randomMX[i+1][j+1]\n",
    "#     for n in range(3):\n",
    "#         print(randomMX[i+2][n+2], end=' ')      #don't increase i, increase j\n",
    "#         a += randomMX[i+2][n+2]   \n",
    "#     print('\\nsum =', a, '\\n')\n",
    "#     my_list.append(a)\n",
    "#     a=0\n",
    "\n",
    "# for i in range(4):\n",
    "#     for j in range(3):\n",
    "#         print(randomMX[i][j+3], end=' ')   #increase j\n",
    "#         a += randomMX[i][j+3]\n",
    "#     print('\\n ', randomMX[i+1][j+2])   #don't increase i, increase j\n",
    "#     a += randomMX[i+1][j+2]\n",
    "#     for n in range(3):\n",
    "#         print(randomMX[i+2][n+3], end=' ')      #don't increase i, increase j\n",
    "#         a += randomMX[i+2][n+3]   \n",
    "#     print('\\nsum =', a, '\\n')\n",
    "#     my_list.append(a)\n",
    "#     a = 0\n",
    "\n",
    "# print(my_list)\n",
    "# print(max(my_list))\n"
   ]
  },
  {
   "cell_type": "code",
   "execution_count": 125,
   "metadata": {},
   "outputs": [
    {
     "name": "stdout",
     "output_type": "stream",
     "text": [
      "1 2 3 4 \n",
      "5 6 \n",
      "7 8 9 \n"
     ]
    }
   ],
   "source": [
    "a = [[1, 2, 3, 4], [5, 6], [7, 8, 9]]\n",
    "for i in range(len(a)):\n",
    "    for j in range(len(a[i])):\n",
    "        print(a[i][j], end=' ')\n",
    "    print()"
   ]
  },
  {
   "cell_type": "code",
   "execution_count": 206,
   "metadata": {},
   "outputs": [
    {
     "name": "stdout",
     "output_type": "stream",
     "text": [
      "[12, 12, 11, 11, 8, 11, 14, 14, 8, 10, 13, 13, 6, 9, 12, 18]\n",
      "18\n"
     ]
    }
   ],
   "source": [
    "arr = [[2, 3, 1, 1, 3, 0],\n",
    "       [0, 2, 2, 1, 2, 1],\n",
    "       [1, 1, 2, 2, 1, 2],\n",
    "       [2, 0, 1, 3, 3, 3],\n",
    "       [0, 2, 2, 0, 3, 2],\n",
    "       [0, 1, 0, 2, 3, 1]]\n",
    "\n",
    "# want to find the maximum hourglass sum\n",
    "# minimum hourglass sum = -9 * 7 = -63\n",
    "maxSum = -63\n",
    "my_list = list()\n",
    "\n",
    "for i in range(4):\n",
    "    for j in range(4):\n",
    "\n",
    "        # sum of top 3 elements\n",
    "        top = sum(arr[i][j:j+3])\n",
    "\n",
    "        # sum of the mid element\n",
    "        mid = arr[i+1][j+1]\n",
    "\n",
    "        # sum of bottom 3 elements\n",
    "        bottom = sum(arr[i+2][j:j+3])\n",
    "\n",
    "        hourglass = top + mid + bottom\n",
    "        \n",
    "        my_list.append(hourglass)\n",
    "        \n",
    "        if hourglass > maxSum:\n",
    "            maxSum = hourglass\n",
    "\n",
    "print(my_list)\n",
    "print(maxSum)"
   ]
  },
  {
   "cell_type": "code",
   "execution_count": 240,
   "metadata": {},
   "outputs": [
    {
     "name": "stdout",
     "output_type": "stream",
     "text": [
      "5 1\n",
      "1 2 3 4 5\n",
      "[2, 3, 4, 5, 1]\n",
      "2 3 4 5 1\n"
     ]
    }
   ],
   "source": [
    "#!/bin/python3\n",
    "\n",
    "import math\n",
    "import os\n",
    "import random\n",
    "import re\n",
    "import sys\n",
    "from collections import deque\n",
    "\n",
    "if __name__ == '__main__':\n",
    "    nd = input().split()\n",
    "\n",
    "    n = int(nd[0]) #size of array\n",
    "\n",
    "    d = int(nd[1]) #rotate times\n",
    "\n",
    "    a = list(map(int, input().rstrip().split()))\n",
    "    \n",
    "    a = deque(a)\n",
    "    \n",
    "    pos = n/d\n",
    "    if pos < 0:\n",
    "        pos = d/n\n",
    "        \n",
    "    mid = n/2\n",
    "    \n",
    "    a.rotate(-d)\n",
    "    \n",
    "    #print(n,d,a)\n",
    "    print(list(a))\n",
    "    \n",
    "    print(*a)\n"
   ]
  },
  {
   "cell_type": "code",
   "execution_count": 282,
   "metadata": {},
   "outputs": [
    {
     "name": "stdout",
     "output_type": "stream",
     "text": [
      "Lorem ipsum dolor sit amet,\n",
      "consectetur adipiscing elit,\n",
      "sed do eiusmod tempor incididunt\n",
      "ut labore et dolore magna aliqua.\n"
     ]
    }
   ],
   "source": [
    "a = \"\"\"Lorem ipsum dolor sit amet,\n",
    "consectetur adipiscing elit,\n",
    "sed do eiusmod tempor incididunt\n",
    "ut labore et dolore magna aliqua.\"\"\"\n",
    "print(a)"
   ]
  },
  {
   "cell_type": "code",
   "execution_count": 295,
   "metadata": {},
   "outputs": [
    {
     "data": {
      "text/plain": [
       "['__add__',\n",
       " '__class__',\n",
       " '__contains__',\n",
       " '__delattr__',\n",
       " '__dir__',\n",
       " '__doc__',\n",
       " '__eq__',\n",
       " '__format__',\n",
       " '__ge__',\n",
       " '__getattribute__',\n",
       " '__getitem__',\n",
       " '__getnewargs__',\n",
       " '__gt__',\n",
       " '__hash__',\n",
       " '__init__',\n",
       " '__init_subclass__',\n",
       " '__iter__',\n",
       " '__le__',\n",
       " '__len__',\n",
       " '__lt__',\n",
       " '__mod__',\n",
       " '__mul__',\n",
       " '__ne__',\n",
       " '__new__',\n",
       " '__reduce__',\n",
       " '__reduce_ex__',\n",
       " '__repr__',\n",
       " '__rmod__',\n",
       " '__rmul__',\n",
       " '__setattr__',\n",
       " '__sizeof__',\n",
       " '__str__',\n",
       " '__subclasshook__',\n",
       " 'capitalize',\n",
       " 'casefold',\n",
       " 'center',\n",
       " 'count',\n",
       " 'encode',\n",
       " 'endswith',\n",
       " 'expandtabs',\n",
       " 'find',\n",
       " 'format',\n",
       " 'format_map',\n",
       " 'index',\n",
       " 'isalnum',\n",
       " 'isalpha',\n",
       " 'isascii',\n",
       " 'isdecimal',\n",
       " 'isdigit',\n",
       " 'isidentifier',\n",
       " 'islower',\n",
       " 'isnumeric',\n",
       " 'isprintable',\n",
       " 'isspace',\n",
       " 'istitle',\n",
       " 'isupper',\n",
       " 'join',\n",
       " 'ljust',\n",
       " 'lower',\n",
       " 'lstrip',\n",
       " 'maketrans',\n",
       " 'partition',\n",
       " 'replace',\n",
       " 'rfind',\n",
       " 'rindex',\n",
       " 'rjust',\n",
       " 'rpartition',\n",
       " 'rsplit',\n",
       " 'rstrip',\n",
       " 'split',\n",
       " 'splitlines',\n",
       " 'startswith',\n",
       " 'strip',\n",
       " 'swapcase',\n",
       " 'title',\n",
       " 'translate',\n",
       " 'upper',\n",
       " 'zfill']"
      ]
     },
     "execution_count": 295,
     "metadata": {},
     "output_type": "execute_result"
    }
   ],
   "source": [
    "db = ['aba', 'baba', 'aba', 'xzxb']\n",
    "qry = ['aba', 'xzxb', 'ab']\n",
    "output = ''\n",
    "\n",
    "for i in range(len(qry)):\n",
    "    print(db.count(qry[i]))"
   ]
  },
  {
   "cell_type": "code",
   "execution_count": null,
   "metadata": {},
   "outputs": [],
   "source": []
  }
 ],
 "metadata": {
  "kernelspec": {
   "display_name": "Python 3",
   "language": "python",
   "name": "python3"
  },
  "language_info": {
   "codemirror_mode": {
    "name": "ipython",
    "version": 3
   },
   "file_extension": ".py",
   "mimetype": "text/x-python",
   "name": "python",
   "nbconvert_exporter": "python",
   "pygments_lexer": "ipython3",
   "version": "3.8.3"
  }
 },
 "nbformat": 4,
 "nbformat_minor": 4
}
